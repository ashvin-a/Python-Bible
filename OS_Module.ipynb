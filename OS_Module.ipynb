{
  "nbformat": 4,
  "nbformat_minor": 0,
  "metadata": {
    "colab": {
      "provenance": [],
      "authorship_tag": "ABX9TyPkA0yVfcduzdx5lqlXkx/N",
      "include_colab_link": true
    },
    "kernelspec": {
      "name": "python3",
      "display_name": "Python 3"
    },
    "language_info": {
      "name": "python"
    }
  },
  "cells": [
    {
      "cell_type": "markdown",
      "metadata": {
        "id": "view-in-github",
        "colab_type": "text"
      },
      "source": [
        "<a href=\"https://colab.research.google.com/github/ashvin-a/Python-Bible/blob/main/OS_Module.ipynb\" target=\"_parent\"><img src=\"https://colab.research.google.com/assets/colab-badge.svg\" alt=\"Open In Colab\"/></a>"
      ]
    },
    {
      "cell_type": "code",
      "execution_count": 1,
      "metadata": {
        "colab": {
          "base_uri": "https://localhost:8080/",
          "height": 35
        },
        "id": "Z6EF6UxIveTA",
        "outputId": "dac929e5-00eb-4d5b-d6a4-bd42d14dae5b"
      },
      "outputs": [
        {
          "output_type": "execute_result",
          "data": {
            "text/plain": [
              "'/content'"
            ],
            "application/vnd.google.colaboratory.intrinsic+json": {
              "type": "string"
            }
          },
          "metadata": {},
          "execution_count": 1
        }
      ],
      "source": [
        "pwd"
      ]
    },
    {
      "cell_type": "code",
      "source": [
        "import os\n",
        "\n",
        "os.getcwd()"
      ],
      "metadata": {
        "colab": {
          "base_uri": "https://localhost:8080/",
          "height": 35
        },
        "id": "rURwuM49v9FM",
        "outputId": "b6a94f0d-ea6f-4c70-ad15-d3250bcb3307"
      },
      "execution_count": 2,
      "outputs": [
        {
          "output_type": "execute_result",
          "data": {
            "text/plain": [
              "'/content'"
            ],
            "application/vnd.google.colaboratory.intrinsic+json": {
              "type": "string"
            }
          },
          "metadata": {},
          "execution_count": 2
        }
      ]
    },
    {
      "cell_type": "code",
      "source": [
        "os.listdir('/content')"
      ],
      "metadata": {
        "colab": {
          "base_uri": "https://localhost:8080/"
        },
        "id": "DuVgH1kqwAwt",
        "outputId": "00412c93-8a64-4ee5-9600-c268a919a962"
      },
      "execution_count": 15,
      "outputs": [
        {
          "output_type": "execute_result",
          "data": {
            "text/plain": [
              "['.config', 'test.txt', 'sample_data']"
            ]
          },
          "metadata": {},
          "execution_count": 15
        }
      ]
    },
    {
      "cell_type": "code",
      "source": [
        "import shutil\n",
        "shutil.move('/test.txt','/content')#file to move  #destination"
      ],
      "metadata": {
        "colab": {
          "base_uri": "https://localhost:8080/",
          "height": 35
        },
        "id": "-Wsjl2Rjw-Hv",
        "outputId": "73b65c21-781d-43b5-945f-adb055899003"
      },
      "execution_count": 24,
      "outputs": [
        {
          "output_type": "execute_result",
          "data": {
            "text/plain": [
              "'/content/test.txt'"
            ],
            "application/vnd.google.colaboratory.intrinsic+json": {
              "type": "string"
            }
          },
          "metadata": {},
          "execution_count": 24
        }
      ]
    },
    {
      "cell_type": "markdown",
      "source": [
        "#Delete files\n",
        "os.unlink(path)\n",
        "os.rmdir(path)\n",
        "shutil.rmtree(path)\n",
        "\n",
        "these are irreversible."
      ],
      "metadata": {
        "id": "GXjNMNxCyT7m"
      }
    },
    {
      "cell_type": "code",
      "source": [
        "import send2trash\n",
        "\n",
        "send2trash.send2trash('/content/test.txt')\n"
      ],
      "metadata": {
        "colab": {
          "base_uri": "https://localhost:8080/"
        },
        "id": "5J4NCiyty3zE",
        "outputId": "09c1e3f3-6425-4bc7-a447-981455ab442a"
      },
      "execution_count": 18,
      "outputs": [
        {
          "output_type": "execute_result",
          "data": {
            "text/plain": [
              "['.config', 'sample_data']"
            ]
          },
          "metadata": {},
          "execution_count": 18
        }
      ]
    },
    {
      "cell_type": "code",
      "source": [
        "os.listdir('/content') #Gone"
      ],
      "metadata": {
        "id": "j0LP0vH7zYPa"
      },
      "execution_count": null,
      "outputs": []
    },
    {
      "cell_type": "markdown",
      "source": [
        "#OS.walk"
      ],
      "metadata": {
        "id": "hXGZOZ4J0W0p"
      }
    },
    {
      "cell_type": "code",
      "source": [
        "for folders,subfolders,files in os.walk('/content'):\n",
        "    print(f'Currently in : {folders}')\n",
        "\n",
        "    for sub in subfolders:\n",
        "        print(f'\\t this is {sub}')\n",
        "    for fil in files:\n",
        "        print(f'\\t \\t this is {fil}')"
      ],
      "metadata": {
        "id": "E0fQJINW0Z3i"
      },
      "execution_count": null,
      "outputs": []
    },
    {
      "cell_type": "code",
      "source": [],
      "metadata": {
        "id": "SSjwYlBU31aT"
      },
      "execution_count": null,
      "outputs": []
    }
  ]
}