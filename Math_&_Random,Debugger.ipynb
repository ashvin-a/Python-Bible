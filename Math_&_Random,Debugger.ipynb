{
  "nbformat": 4,
  "nbformat_minor": 0,
  "metadata": {
    "colab": {
      "provenance": [],
      "authorship_tag": "ABX9TyNn1teqRiAGPFrUfjGE6q7W",
      "include_colab_link": true
    },
    "kernelspec": {
      "name": "python3",
      "display_name": "Python 3"
    },
    "language_info": {
      "name": "python"
    }
  },
  "cells": [
    {
      "cell_type": "markdown",
      "metadata": {
        "id": "view-in-github",
        "colab_type": "text"
      },
      "source": [
        "<a href=\"https://colab.research.google.com/github/ashvin-a/Python-Bible/blob/main/Math_%26_Random%2CDebugger.ipynb\" target=\"_parent\"><img src=\"https://colab.research.google.com/assets/colab-badge.svg\" alt=\"Open In Colab\"/></a>"
      ]
    },
    {
      "cell_type": "code",
      "execution_count": null,
      "metadata": {
        "id": "4IKSonZ67Rdg"
      },
      "outputs": [],
      "source": [
        "import math\n",
        "\n",
        "help(math)"
      ]
    },
    {
      "cell_type": "code",
      "source": [
        "import random\n",
        "random.randint(1,100)"
      ],
      "metadata": {
        "colab": {
          "base_uri": "https://localhost:8080/"
        },
        "id": "VUUf-SPV7ynz",
        "outputId": "714be553-078b-494b-a67a-fbed20377998"
      },
      "execution_count": null,
      "outputs": [
        {
          "output_type": "execute_result",
          "data": {
            "text/plain": [
              "31"
            ]
          },
          "metadata": {},
          "execution_count": 5
        }
      ]
    },
    {
      "cell_type": "code",
      "source": [
        "random.seed(101)\n",
        "random.randint(0,100)\n"
      ],
      "metadata": {
        "colab": {
          "base_uri": "https://localhost:8080/"
        },
        "id": "qIwoqneO8djp",
        "outputId": "d987d7b1-3eca-48bd-affd-a07213e2b96d"
      },
      "execution_count": null,
      "outputs": [
        {
          "output_type": "execute_result",
          "data": {
            "text/plain": [
              "74"
            ]
          },
          "metadata": {},
          "execution_count": 6
        }
      ]
    },
    {
      "cell_type": "code",
      "source": [
        "l = [1,2,3,4,5,56,7,8,9,9,3,3,56,7,8,9,9,0]\n",
        "random.choices(population=l,k=10)#Sample with replacement"
      ],
      "metadata": {
        "colab": {
          "base_uri": "https://localhost:8080/"
        },
        "id": "6err_K699Lfa",
        "outputId": "18b2995e-dd9c-467e-b4b7-9bdd745729b1"
      },
      "execution_count": null,
      "outputs": [
        {
          "output_type": "execute_result",
          "data": {
            "text/plain": [
              "[3, 3, 1, 4, 2, 3, 56, 7, 7, 3]"
            ]
          },
          "metadata": {},
          "execution_count": 13
        }
      ]
    },
    {
      "cell_type": "code",
      "source": [
        "random.sample(population=l,k=10)"
      ],
      "metadata": {
        "colab": {
          "base_uri": "https://localhost:8080/"
        },
        "id": "7esLmghr9iJK",
        "outputId": "038c4216-68f7-4d74-b40c-c07f7a7ff752"
      },
      "execution_count": null,
      "outputs": [
        {
          "output_type": "execute_result",
          "data": {
            "text/plain": [
              "[7, 9, 3, 2, 5, 3, 7, 8, 4, 0]"
            ]
          },
          "metadata": {},
          "execution_count": 18
        }
      ]
    },
    {
      "cell_type": "code",
      "source": [
        "import pdb\n",
        "l = [1,2,3,4,5]\n",
        "m = 1\n",
        "n = 2\n",
        "\n",
        "print(m+n)\n",
        "pdb.set_trace()\n",
        "print(l+m)"
      ],
      "metadata": {
        "id": "ukTk3Le1Cdk6"
      },
      "execution_count": null,
      "outputs": []
    },
    {
      "cell_type": "code",
      "source": [],
      "metadata": {
        "id": "vadG_VKWUHpK"
      },
      "execution_count": null,
      "outputs": []
    }
  ]
}