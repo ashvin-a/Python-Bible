{
  "nbformat": 4,
  "nbformat_minor": 0,
  "metadata": {
    "colab": {
      "provenance": [],
      "authorship_tag": "ABX9TyOzd6+zqgSp5tOOpzb1jA3r",
      "include_colab_link": true
    },
    "kernelspec": {
      "name": "python3",
      "display_name": "Python 3"
    },
    "language_info": {
      "name": "python"
    }
  },
  "cells": [
    {
      "cell_type": "markdown",
      "metadata": {
        "id": "view-in-github",
        "colab_type": "text"
      },
      "source": [
        "<a href=\"https://colab.research.google.com/github/ashvin-a/Python-Bible/blob/main/Exceptions.ipynb\" target=\"_parent\"><img src=\"https://colab.research.google.com/assets/colab-badge.svg\" alt=\"Open In Colab\"/></a>"
      ]
    },
    {
      "cell_type": "code",
      "execution_count": null,
      "metadata": {
        "colab": {
          "base_uri": "https://localhost:8080/"
        },
        "id": "wAY-y1UZ4yrH",
        "outputId": "238a92e5-71cd-4a9e-8485-cfb4619abaa7"
      },
      "outputs": [
        {
          "output_type": "stream",
          "name": "stdout",
          "text": [
            "work aavilla\n",
            "all done\n"
          ]
        }
      ],
      "source": [
        "try:\n",
        "    f = open('test.txt','r')\n",
        "    f.write('This line is appended')\n",
        "\n",
        "except IOError:\n",
        "    print('work aavilla')\n",
        "\n",
        "finally:\n",
        "    print('all done')\n"
      ]
    },
    {
      "cell_type": "code",
      "source": [
        "while True:\n",
        "    try:\n",
        "        res = int(input('Enter a number: '))\n",
        "    except:\n",
        "        print('Number thaada mone')\n",
        "    else:\n",
        "        print(f'you entered {res}')\n",
        "        break\n",
        "    finally:\n",
        "        print('All theernuu')"
      ],
      "metadata": {
        "colab": {
          "base_uri": "https://localhost:8080/"
        },
        "id": "YJlftBth-liH",
        "outputId": "7537a36b-fd8e-43c7-cc4b-caf07d0cf1a5"
      },
      "execution_count": null,
      "outputs": [
        {
          "output_type": "stream",
          "name": "stdout",
          "text": [
            "Enter a number: wewe\n",
            "Number thaada mone\n",
            "All theernuu\n",
            "Enter a number: qweqweqw\n",
            "Number thaada mone\n",
            "All theernuu\n",
            "Enter a number: 23\n",
            "you entered 23\n",
            "All theernuu\n"
          ]
        }
      ]
    },
    {
      "cell_type": "code",
      "source": [
        "try:\n",
        "    for i in ['a','b','c']:\n",
        "        print(i**2)\n",
        "except:\n",
        "    print('work aavillaa')"
      ],
      "metadata": {
        "colab": {
          "base_uri": "https://localhost:8080/"
        },
        "id": "Xx0DllEP_nlG",
        "outputId": "5d141d19-0830-4de3-d8bb-bbd7fe94d9ee"
      },
      "execution_count": null,
      "outputs": [
        {
          "output_type": "stream",
          "name": "stdout",
          "text": [
            "work aavillaa\n"
          ]
        }
      ]
    }
  ]
}