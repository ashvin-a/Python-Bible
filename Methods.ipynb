{
  "nbformat": 4,
  "nbformat_minor": 0,
  "metadata": {
    "colab": {
      "provenance": [],
      "authorship_tag": "ABX9TyNJtBFqrxIVi30X2cBfiC8P",
      "include_colab_link": true
    },
    "kernelspec": {
      "name": "python3",
      "display_name": "Python 3"
    },
    "language_info": {
      "name": "python"
    }
  },
  "cells": [
    {
      "cell_type": "markdown",
      "metadata": {
        "id": "view-in-github",
        "colab_type": "text"
      },
      "source": [
        "<a href=\"https://colab.research.google.com/github/ashvin-a/Python-Bible/blob/main/Methods.ipynb\" target=\"_parent\"><img src=\"https://colab.research.google.com/assets/colab-badge.svg\" alt=\"Open In Colab\"/></a>"
      ]
    },
    {
      "cell_type": "markdown",
      "source": [
        "#Methods in python"
      ],
      "metadata": {
        "id": "EIvSRw3Kt8ol"
      }
    },
    {
      "cell_type": "markdown",
      "source": [
        "##Help function"
      ],
      "metadata": {
        "id": "g4LjACzJuLQv"
      }
    },
    {
      "cell_type": "code",
      "source": [
        "arr = [1,2,3,4,5,56,6]\n",
        "\n",
        "help(arr.insert)"
      ],
      "metadata": {
        "colab": {
          "base_uri": "https://localhost:8080/"
        },
        "id": "ma1f2DGZuCMG",
        "outputId": "8517e49c-35e7-47a4-8bab-7f1846308617"
      },
      "execution_count": 2,
      "outputs": [
        {
          "output_type": "stream",
          "name": "stdout",
          "text": [
            "Help on built-in function insert:\n",
            "\n",
            "insert(index, object, /) method of builtins.list instance\n",
            "    Insert object before index.\n",
            "\n"
          ]
        }
      ]
    },
    {
      "cell_type": "markdown",
      "source": [
        "##Functions"
      ],
      "metadata": {
        "id": "bV0RtHmrwPL3"
      }
    },
    {
      "cell_type": "code",
      "source": [
        "def fun_aan():\n",
        "    return 'hehehe'\n",
        "\n",
        "def fun_1(name='default'):\n",
        "    return f'Your name is {name}'\n",
        "\n",
        "fun_1('Kekeke')\n",
        "\n"
      ],
      "metadata": {
        "colab": {
          "base_uri": "https://localhost:8080/",
          "height": 35
        },
        "id": "ymEoyAYNwTC0",
        "outputId": "42f3c61a-728d-43d3-b499-4446293605d0"
      },
      "execution_count": 7,
      "outputs": [
        {
          "output_type": "execute_result",
          "data": {
            "text/plain": [
              "'Your name is Kekeke'"
            ],
            "application/vnd.google.colaboratory.intrinsic+json": {
              "type": "string"
            }
          },
          "metadata": {},
          "execution_count": 7
        }
      ]
    },
    {
      "cell_type": "markdown",
      "source": [
        "###Use return in functions when you need to store the value of output of the function in a variable.\n",
        "\n",
        "###Print wont give you anything"
      ],
      "metadata": {
        "id": "eTnBfge3w0oy"
      }
    },
    {
      "cell_type": "code",
      "source": [
        "def fun(a,b):\n",
        "    print(a+b)\n",
        "    return a+b\n"
      ],
      "metadata": {
        "id": "MIsiKhcyxWBc"
      },
      "execution_count": 10,
      "outputs": []
    },
    {
      "cell_type": "code",
      "source": [
        "fun(10,20)"
      ],
      "metadata": {
        "colab": {
          "base_uri": "https://localhost:8080/"
        },
        "id": "yqxXmDC2x6YI",
        "outputId": "633767f6-c270-48d3-b175-1a9823a55534"
      },
      "execution_count": 11,
      "outputs": [
        {
          "output_type": "stream",
          "name": "stdout",
          "text": [
            "30\n"
          ]
        },
        {
          "output_type": "execute_result",
          "data": {
            "text/plain": [
              "30"
            ]
          },
          "metadata": {},
          "execution_count": 11
        }
      ]
    },
    {
      "cell_type": "markdown",
      "source": [
        "### Return will also break out of the function even if its embedded in an iterating loop."
      ],
      "metadata": {
        "id": "Ak61E0fUyo1p"
      }
    },
    {
      "cell_type": "code",
      "source": [
        "def fun(num_list):\n",
        "    for num in num_list:\n",
        "        if num%2==0:\n",
        "            return True\n",
        "    return False #Look where to put the alternative return"
      ],
      "metadata": {
        "id": "EU_DN5I5zdn_"
      },
      "execution_count": 19,
      "outputs": []
    },
    {
      "cell_type": "code",
      "source": [
        "fun([2,2,5,3])"
      ],
      "metadata": {
        "colab": {
          "base_uri": "https://localhost:8080/"
        },
        "id": "83KxYTNtzwMO",
        "outputId": "3136def1-3bef-4219-bbf7-7a69e804659c"
      },
      "execution_count": 21,
      "outputs": [
        {
          "output_type": "execute_result",
          "data": {
            "text/plain": [
              "2"
            ]
          },
          "metadata": {},
          "execution_count": 21
        }
      ]
    },
    {
      "cell_type": "code",
      "source": [
        "def fun_hei(num_list):\n",
        "    l = [num for num in num_list if num%2==0]\n",
        "    return l\n",
        "fun_hei([1,3])"
      ],
      "metadata": {
        "colab": {
          "base_uri": "https://localhost:8080/"
        },
        "id": "QLJYdkra0mcs",
        "outputId": "fe161b05-6b62-4989-cfee-1761e6dd7114"
      },
      "execution_count": 24,
      "outputs": [
        {
          "output_type": "execute_result",
          "data": {
            "text/plain": [
              "[]"
            ]
          },
          "metadata": {},
          "execution_count": 24
        }
      ]
    },
    {
      "cell_type": "code",
      "source": [
        "staff_list = [('haha',100),('hehe',2000),('huhu',300)]\n",
        "\n",
        "def staff_kaan():\n",
        "    max_hr = 0\n",
        "    staff_name = ''\n",
        "\n",
        "    for name,hr in staff_list:\n",
        "        if(hr>max_hr):\n",
        "            max_hr = hr\n",
        "            staff_name = name\n",
        "    return staff_name,max_hr\n",
        "\n",
        "name,hr_max = staff_kaan()\n",
        "print(name)"
      ],
      "metadata": {
        "id": "m75e_8pA1sU4"
      },
      "execution_count": null,
      "outputs": []
    },
    {
      "cell_type": "markdown",
      "source": [
        "#Game Ondaakam"
      ],
      "metadata": {
        "id": "nG3FudNbLSwS"
      }
    },
    {
      "cell_type": "code",
      "source": [
        "from random import shuffle\n",
        "\n",
        "def shuffle_it(item_list):\n",
        "    shuffle(item_list)\n",
        "    return item_list\n",
        "\n"
      ],
      "metadata": {
        "id": "5vi8DlhlLXD4"
      },
      "execution_count": null,
      "outputs": []
    },
    {
      "cell_type": "code",
      "source": [
        "def get_input():\n",
        "    res = ''\n",
        "    while res not in ['0','1','2']:\n",
        "        res = input('Enter a number: ')\n",
        "    return(res)"
      ],
      "metadata": {
        "id": "0Y1VycODMJjv"
      },
      "execution_count": null,
      "outputs": []
    },
    {
      "cell_type": "code",
      "source": [
        "# WEW\n",
        "shuf = shuffle_it(['','O',''])\n",
        "input_ret = int(get_input())\n",
        "# print(shuf_return,input_return)\n",
        "def check_it(shuf,input_ret):\n",
        "    if(shuf[input_ret]=='O'):\n",
        "        return \"Correct aaki\"\n",
        "    return 'wrong aayi poyi'\n",
        "\n",
        "check_it(shuf,input_ret)"
      ],
      "metadata": {
        "id": "TCmirDUXM_VP"
      },
      "execution_count": null,
      "outputs": []
    }
  ]
}