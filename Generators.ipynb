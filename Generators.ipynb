{
  "nbformat": 4,
  "nbformat_minor": 0,
  "metadata": {
    "colab": {
      "provenance": [],
      "authorship_tag": "ABX9TyP5SC4d9Tv6I2web3tgGYol",
      "include_colab_link": true
    },
    "kernelspec": {
      "name": "python3",
      "display_name": "Python 3"
    },
    "language_info": {
      "name": "python"
    }
  },
  "cells": [
    {
      "cell_type": "markdown",
      "metadata": {
        "id": "view-in-github",
        "colab_type": "text"
      },
      "source": [
        "<a href=\"https://colab.research.google.com/github/ashvin-a/Python-Bible/blob/main/Generators.ipynb\" target=\"_parent\"><img src=\"https://colab.research.google.com/assets/colab-badge.svg\" alt=\"Open In Colab\"/></a>"
      ]
    },
    {
      "cell_type": "code",
      "source": [
        "def create_squares(n):\n",
        "    res =[]\n",
        "    for i in range(n):\n",
        "        res.append(i**2)\n",
        "    return res\n"
      ],
      "metadata": {
        "id": "9aDel9ycuY4E"
      },
      "execution_count": null,
      "outputs": []
    },
    {
      "cell_type": "code",
      "source": [
        "list(create_squares(1000))"
      ],
      "metadata": {
        "id": "uVJz--JOuavj"
      },
      "execution_count": null,
      "outputs": []
    },
    {
      "cell_type": "code",
      "execution_count": null,
      "metadata": {
        "id": "KDjL3xo4su8j"
      },
      "outputs": [],
      "source": [
        "def create_squares(n):\n",
        "\n",
        "    for i in range(n):\n",
        "        yield i**2 ##Sensei said this will be useful\n"
      ]
    },
    {
      "cell_type": "code",
      "source": [
        "# create_squares()\n",
        "list(create_squares(1000))"
      ],
      "metadata": {
        "id": "daJ_sHEqtwzy"
      },
      "execution_count": null,
      "outputs": []
    },
    {
      "cell_type": "code",
      "source": [
        "#Fibonnaci\n",
        "\n",
        "def generate_fibo(n):\n",
        "    j=1\n",
        "    k=1\n",
        "    for i in range(n):\n",
        "        yield j\n",
        "        j,k = k,j+k"
      ],
      "metadata": {
        "id": "_Uaut3JHu73T"
      },
      "execution_count": null,
      "outputs": []
    },
    {
      "cell_type": "code",
      "source": [
        "list(generate_fibo(10))"
      ],
      "metadata": {
        "colab": {
          "base_uri": "https://localhost:8080/"
        },
        "id": "KS2qSL9RvwNJ",
        "outputId": "65d3b090-551b-4fdc-ef05-73ce3ee71f20"
      },
      "execution_count": null,
      "outputs": [
        {
          "output_type": "execute_result",
          "data": {
            "text/plain": [
              "[1, 1, 2, 3, 5, 8, 13, 21, 34, 55]"
            ]
          },
          "metadata": {},
          "execution_count": 23
        }
      ]
    },
    {
      "cell_type": "code",
      "source": [
        "def simp_fun(n):\n",
        "    for i in range(n):\n",
        "        yield i"
      ],
      "metadata": {
        "id": "GDuy7uiYx91e"
      },
      "execution_count": null,
      "outputs": []
    },
    {
      "cell_type": "code",
      "source": [
        "fun = simp_fun(10)"
      ],
      "metadata": {
        "id": "lpyYTtEMyE2v"
      },
      "execution_count": null,
      "outputs": []
    },
    {
      "cell_type": "code",
      "source": [
        "print(next(fun))#gives error when it reaches its limits"
      ],
      "metadata": {
        "id": "8xMTXdptyKvP"
      },
      "execution_count": null,
      "outputs": []
    },
    {
      "cell_type": "code",
      "source": [
        "s = 'Hey There!'\n",
        "for k in s:\n",
        "    print(k)"
      ],
      "metadata": {
        "id": "UmWHauolyjm_"
      },
      "execution_count": null,
      "outputs": []
    },
    {
      "cell_type": "code",
      "source": [
        "letter_iter = iter(s)"
      ],
      "metadata": {
        "id": "EufYSEbkzCkQ"
      },
      "execution_count": null,
      "outputs": []
    },
    {
      "cell_type": "code",
      "source": [
        "next(letter_iter)"
      ],
      "metadata": {
        "id": "lU_1PwhyzLjw"
      },
      "execution_count": null,
      "outputs": []
    },
    {
      "cell_type": "code",
      "source": [],
      "metadata": {
        "id": "B1_nQxyzzpOF"
      },
      "execution_count": null,
      "outputs": []
    }
  ]
}