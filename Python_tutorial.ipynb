{
  "nbformat": 4,
  "nbformat_minor": 0,
  "metadata": {
    "colab": {
      "provenance": [],
      "authorship_tag": "ABX9TyOASY2OwtiDbcubJJy7RjiN",
      "include_colab_link": true
    },
    "kernelspec": {
      "name": "python3",
      "display_name": "Python 3"
    },
    "language_info": {
      "name": "python"
    }
  },
  "cells": [
    {
      "cell_type": "markdown",
      "metadata": {
        "id": "view-in-github",
        "colab_type": "text"
      },
      "source": [
        "<a href=\"https://colab.research.google.com/github/ashvin-a/Python-Bible/blob/main/Python_tutorial.ipynb\" target=\"_parent\"><img src=\"https://colab.research.google.com/assets/colab-badge.svg\" alt=\"Open In Colab\"/></a>"
      ]
    },
    {
      "cell_type": "code",
      "execution_count": 1,
      "metadata": {
        "colab": {
          "base_uri": "https://localhost:8080/"
        },
        "id": "5mU6rkh0JaaF",
        "outputId": "de8cbf2e-6155-48f3-c5e1-ac32254a8dd0"
      },
      "outputs": [
        {
          "output_type": "stream",
          "name": "stdout",
          "text": [
            "val1\n",
            "dict_keys(['h1', 'h2', 'h3', 'h4', 'k4'])\n",
            "dict_values([1, 2, [1, 2, 3], {'kry1': 'val1'}, 'heheh'])\n",
            "dict_items([('h1', 1), ('h2', 2), ('h3', [1, 2, 3]), ('h4', {'kry1': 'val1'}), ('k4', 'heheh')])\n"
          ]
        }
      ],
      "source": [
        "#Dictionaries\n",
        "d = {'h1':1,'h2':2,'h3':[1,2,3],'h4':{'kry1':'val1'}}\n",
        "print(d['h4']['kry1'])\n",
        "\n",
        "d['k4']='heheh' #Added new entry to dictionary\n",
        "\n",
        "# print(d)\n",
        "\n",
        "print(d.keys())\n",
        "print(d.values())\n",
        "print(d.items())"
      ]
    },
    {
      "cell_type": "code",
      "source": [
        "# Tuple\n",
        "\n",
        "t = (1,2,'one','two',1,3,4,5)\n",
        "# t[1] = 3 wont work\n",
        "\n",
        "t.index('one') # gives index\n",
        "t.count(3) # Gives count"
      ],
      "metadata": {
        "colab": {
          "base_uri": "https://localhost:8080/"
        },
        "id": "yaUnuh3ZKeZz",
        "outputId": "f8a8ac0d-e9dd-4850-89a4-31dc01dc87eb"
      },
      "execution_count": 10,
      "outputs": [
        {
          "output_type": "execute_result",
          "data": {
            "text/plain": [
              "1"
            ]
          },
          "metadata": {},
          "execution_count": 10
        }
      ]
    }
  ]
}