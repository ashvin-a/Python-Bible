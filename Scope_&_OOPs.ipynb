{
  "nbformat": 4,
  "nbformat_minor": 0,
  "metadata": {
    "colab": {
      "provenance": [],
      "authorship_tag": "ABX9TyPoijWKrWO71kb5q8RD9ufK",
      "include_colab_link": true
    },
    "kernelspec": {
      "name": "python3",
      "display_name": "Python 3"
    },
    "language_info": {
      "name": "python"
    }
  },
  "cells": [
    {
      "cell_type": "markdown",
      "metadata": {
        "id": "view-in-github",
        "colab_type": "text"
      },
      "source": [
        "<a href=\"https://colab.research.google.com/github/ashvin-a/Python-Bible/blob/main/Scope_%26_OOPs.ipynb\" target=\"_parent\"><img src=\"https://colab.research.google.com/assets/colab-badge.svg\" alt=\"Open In Colab\"/></a>"
      ]
    },
    {
      "cell_type": "code",
      "execution_count": null,
      "metadata": {
        "colab": {
          "base_uri": "https://localhost:8080/"
        },
        "id": "bFVdSiOd1-Zr",
        "outputId": "7fce9ace-d525-49bf-adee-1f88adb239e5"
      },
      "outputs": [
        {
          "output_type": "stream",
          "name": "stdout",
          "text": [
            "this is 0\n",
            "5\n"
          ]
        }
      ],
      "source": [
        "x=5\n",
        "\n",
        "def fun():\n",
        "    x=0\n",
        "    return(f'this is {x}')\n",
        "\n",
        "print(fun())\n",
        "print(x)"
      ]
    },
    {
      "cell_type": "code",
      "source": [
        "x=5\n",
        "\n",
        "def fun():\n",
        "    global x #Changed the value of global variable\n",
        "    x=0\n",
        "    return(f'this is {x}')\n",
        "\n",
        "print(fun())\n",
        "print(x)"
      ],
      "metadata": {
        "colab": {
          "base_uri": "https://localhost:8080/"
        },
        "id": "Xb9k0Lnt4sZA",
        "outputId": "e4c2ada8-3ee6-45a4-f8df-010bbf61cc13"
      },
      "execution_count": null,
      "outputs": [
        {
          "output_type": "stream",
          "name": "stdout",
          "text": [
            "this is 0\n",
            "0\n"
          ]
        }
      ]
    },
    {
      "cell_type": "code",
      "source": [
        "class Doggo():\n",
        "\n",
        "    def __init__(self,blah_breed,name,fav_food):\n",
        "        self.breed = blah_breed\n",
        "        self.name = name\n",
        "        self.fav_food = fav_food\n",
        "\n",
        "\n",
        "# dog1 = Doggo(blah_breed='Pug')\n",
        "dog2 = Doggo('G Sheperd','kekeke','chichi')\n",
        "print(dog2)\n",
        "print(dog2.breed)\n",
        "print(dog2.name)\n",
        "print(type(dog2))\n",
        "\n"
      ],
      "metadata": {
        "colab": {
          "base_uri": "https://localhost:8080/"
        },
        "id": "ec6XB7JiAA-a",
        "outputId": "78e18932-002f-4222-f6c1-cad4e374dd8d"
      },
      "execution_count": null,
      "outputs": [
        {
          "output_type": "stream",
          "name": "stdout",
          "text": [
            "<__main__.Doggo object at 0x7bb547a515d0>\n",
            "G Sheperd\n",
            "kekeke\n",
            "<class '__main__.Doggo'>\n"
          ]
        }
      ]
    },
    {
      "cell_type": "markdown",
      "source": [
        "##Class Object Attribute"
      ],
      "metadata": {
        "id": "ACacCxhV5le7"
      }
    },
    {
      "cell_type": "code",
      "source": [
        "class Doggo():\n",
        "\n",
        "    somethin = 'hehehe' #Look this!!\n",
        "\n",
        "    def __init__(self,blah_breed,name,fav_food):\n",
        "        self.breed = blah_breed\n",
        "        self.name = name\n",
        "        self.fav_food = fav_food\n",
        "\n",
        "    def fetch(self):\n",
        "        print(f'Violaaaaaa {self.name} ')\n",
        "\n",
        "\n",
        "# dog1 = Doggo(blah_breed='Pug')\n",
        "dog2 = Doggo('G Sheperd','kukku','mutton')\n",
        "dog3 = Doggo('Lab','kekke','chicken')\n",
        "dog4 = Doggo('Rott','chichi','beef')\n",
        "print(dog2)\n",
        "print(dog2.breed)\n",
        "print(dog2.name)\n",
        "print(dog2.somethin)\n",
        "print(type(dog2))\n",
        "dog2.fetch()\n",
        "dog3.fetch()\n",
        "dog4.fetch()"
      ],
      "metadata": {
        "colab": {
          "base_uri": "https://localhost:8080/"
        },
        "id": "l94UqlqT5Nqe",
        "outputId": "f63198ee-de38-4eae-c471-02a0be5347ed"
      },
      "execution_count": null,
      "outputs": [
        {
          "output_type": "stream",
          "name": "stdout",
          "text": [
            "<__main__.Doggo object at 0x7fe6f54043a0>\n",
            "G Sheperd\n",
            "kukku\n",
            "hehehe\n",
            "<class '__main__.Doggo'>\n",
            "Violaaaaaa kukku \n",
            "Violaaaaaa kekke \n",
            "Violaaaaaa chichi \n"
          ]
        }
      ]
    },
    {
      "cell_type": "code",
      "source": [
        "import math\n",
        "\n",
        "class Circle():\n",
        "\n",
        "    pi = math.pi\n",
        "\n",
        "    def __init__(self,radius=1):\n",
        "        self.radius = radius\n",
        "        self.area = Circle.pi*(self.radius**2)\n",
        "\n",
        "    def get_circumference(self):\n",
        "        return self.radius*2*Circle.pi #use Circle.pi instead of self.pi for good readability.\n",
        "\n",
        "c1 = Circle(69)\n",
        "print(c1.get_circumference())\n",
        "print(c1.area)"
      ],
      "metadata": {
        "colab": {
          "base_uri": "https://localhost:8080/"
        },
        "id": "knczIWEn9L2k",
        "outputId": "b359ba3b-8051-4cd5-b48b-9c0ab759ddcb"
      },
      "execution_count": null,
      "outputs": [
        {
          "output_type": "stream",
          "name": "stdout",
          "text": [
            "433.53978619539146\n",
            "14957.122623741005\n"
          ]
        }
      ]
    },
    {
      "cell_type": "markdown",
      "source": [
        "##Inheritance\n"
      ],
      "metadata": {
        "id": "iaWuzlXcSJO6"
      }
    },
    {
      "cell_type": "code",
      "source": [
        "class Animal():\n",
        "\n",
        "    def __init__(self):\n",
        "        print('Animal created')\n",
        "\n",
        "    def eat(self):\n",
        "        print('Eating')\n",
        "\n",
        "    def sleep(self):\n",
        "        print('Sleeping')\n",
        "\n",
        "    def nee_etha(self):\n",
        "        print('Njan animal hei!')\n",
        "\n",
        "ani = Animal()\n",
        "ani.eat()\n",
        "ani.sleep()\n"
      ],
      "metadata": {
        "colab": {
          "base_uri": "https://localhost:8080/"
        },
        "id": "WNqMMtkoSOGD",
        "outputId": "fad67c10-1c0d-4ff3-a21e-dc990ebaad3b"
      },
      "execution_count": null,
      "outputs": [
        {
          "output_type": "stream",
          "name": "stdout",
          "text": [
            "Animal created\n",
            "Eating\n",
            "Sleeping\n"
          ]
        }
      ]
    },
    {
      "cell_type": "code",
      "source": [
        "class Dog(Animal):\n",
        "\n",
        "    def __init__(self):\n",
        "        Animal.__init__(self) # how to call the constructor of Animal class\n",
        "        print('Dog created')\n",
        "\n",
        "    def bark(self):\n",
        "        print('Wooof')\n",
        "\n",
        "    def nee_etha(self):\n",
        "        print('Njan doggo hei!')\n",
        "\n",
        "\n",
        "dog1 = Dog()\n",
        "dog1.sleep()\n",
        "dog1.eat()\n",
        "dog1.bark()\n",
        "dog1.nee_etha()"
      ],
      "metadata": {
        "colab": {
          "base_uri": "https://localhost:8080/"
        },
        "id": "8_h8KmIDS1vV",
        "outputId": "c7ed5770-bd44-4705-f08e-0a2a076a5260"
      },
      "execution_count": null,
      "outputs": [
        {
          "output_type": "stream",
          "name": "stdout",
          "text": [
            "Animal created\n",
            "Dog created\n",
            "Sleeping\n",
            "Eating\n",
            "Wooof\n",
            "Njan doggo hei!\n"
          ]
        }
      ]
    },
    {
      "cell_type": "markdown",
      "source": [
        "##Polymorphism"
      ],
      "metadata": {
        "id": "hmH_tq7lUt8R"
      }
    },
    {
      "cell_type": "code",
      "source": [
        "class Dog():\n",
        "    def __init__(self,name):\n",
        "        self.name = name\n",
        "\n",
        "    def speak(self):\n",
        "        raise NotImplementedError('Subclass vazhi vilikk') #Ingane idu for abstract methods\n",
        "\n",
        "# d1 = Dog('Koko')\n",
        "# d1.speak()"
      ],
      "metadata": {
        "id": "aRmjRikaUwEe"
      },
      "execution_count": null,
      "outputs": []
    },
    {
      "cell_type": "code",
      "source": [
        "class Pug(Dog):\n",
        "\n",
        "    def speak(self):\n",
        "        return(f'{self.name} wewewewewe')\n",
        "\n",
        "p1 = Pug('tuttu')\n",
        "\n",
        "p1.speak()"
      ],
      "metadata": {
        "colab": {
          "base_uri": "https://localhost:8080/",
          "height": 35
        },
        "id": "JqLhl6ZNWDYZ",
        "outputId": "c61a9575-9cbc-49a6-d19b-022206436e60"
      },
      "execution_count": null,
      "outputs": [
        {
          "output_type": "execute_result",
          "data": {
            "text/plain": [
              "'tuttu wewewewewe'"
            ],
            "application/vnd.google.colaboratory.intrinsic+json": {
              "type": "string"
            }
          },
          "metadata": {},
          "execution_count": 33
        }
      ]
    },
    {
      "cell_type": "code",
      "source": [],
      "metadata": {
        "id": "33dmvt7fXALp"
      },
      "execution_count": null,
      "outputs": []
    }
  ]
}