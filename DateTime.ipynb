{
  "nbformat": 4,
  "nbformat_minor": 0,
  "metadata": {
    "colab": {
      "provenance": [],
      "authorship_tag": "ABX9TyMiYzilmZfCstQO4XSQ/Qyy",
      "include_colab_link": true
    },
    "kernelspec": {
      "name": "python3",
      "display_name": "Python 3"
    },
    "language_info": {
      "name": "python"
    }
  },
  "cells": [
    {
      "cell_type": "markdown",
      "metadata": {
        "id": "view-in-github",
        "colab_type": "text"
      },
      "source": [
        "<a href=\"https://colab.research.google.com/github/ashvin-a/Python-Bible/blob/main/DateTime.ipynb\" target=\"_parent\"><img src=\"https://colab.research.google.com/assets/colab-badge.svg\" alt=\"Open In Colab\"/></a>"
      ]
    },
    {
      "cell_type": "code",
      "execution_count": 2,
      "metadata": {
        "colab": {
          "base_uri": "https://localhost:8080/"
        },
        "id": "OLdjGStn4Lrj",
        "outputId": "19a6b39d-493b-4462-cf57-c1ac9c2c37b6"
      },
      "outputs": [
        {
          "output_type": "stream",
          "name": "stdout",
          "text": [
            "01:02:03.000004\n"
          ]
        }
      ],
      "source": [
        "import datetime\n",
        "\n",
        "time = datetime.time(1,2,3,4)\n",
        "print(time)"
      ]
    },
    {
      "cell_type": "code",
      "source": [
        "today = datetime.date.today()\n",
        "print(today)"
      ],
      "metadata": {
        "colab": {
          "base_uri": "https://localhost:8080/"
        },
        "id": "hxBjai1H43tO",
        "outputId": "861715d6-627f-46a5-9b22-e9a1cd6253e2"
      },
      "execution_count": 4,
      "outputs": [
        {
          "output_type": "stream",
          "name": "stdout",
          "text": [
            "2023-11-13\n"
          ]
        }
      ]
    },
    {
      "cell_type": "code",
      "source": [
        "today.year"
      ],
      "metadata": {
        "colab": {
          "base_uri": "https://localhost:8080/"
        },
        "id": "2XrkGofT5EiM",
        "outputId": "275abc7e-e4bc-4e47-9927-60ccba05a5c1"
      },
      "execution_count": 5,
      "outputs": [
        {
          "output_type": "execute_result",
          "data": {
            "text/plain": [
              "2023"
            ]
          },
          "metadata": {},
          "execution_count": 5
        }
      ]
    },
    {
      "cell_type": "code",
      "source": [
        "today.ctime()"
      ],
      "metadata": {
        "colab": {
          "base_uri": "https://localhost:8080/",
          "height": 35
        },
        "id": "69VZwfg35Nqa",
        "outputId": "3665d1c1-7241-4a73-fc17-17101b889b4c"
      },
      "execution_count": 6,
      "outputs": [
        {
          "output_type": "execute_result",
          "data": {
            "text/plain": [
              "'Mon Nov 13 00:00:00 2023'"
            ],
            "application/vnd.google.colaboratory.intrinsic+json": {
              "type": "string"
            }
          },
          "metadata": {},
          "execution_count": 6
        }
      ]
    },
    {
      "cell_type": "code",
      "source": [
        "from datetime import datetime\n",
        "\n",
        "mytime = datetime(2023,2,3,4,5,6,7)\n",
        "print(mytime)"
      ],
      "metadata": {
        "colab": {
          "base_uri": "https://localhost:8080/"
        },
        "id": "cnMSnP615a3K",
        "outputId": "4c4c7f22-5267-4d65-fbf1-6cb820867328"
      },
      "execution_count": 8,
      "outputs": [
        {
          "output_type": "stream",
          "name": "stdout",
          "text": [
            "2023-02-03 04:05:06.000007\n"
          ]
        }
      ]
    },
    {
      "cell_type": "code",
      "source": [
        "mytime = mytime.replace(year=2020)\n",
        "print(mytime)"
      ],
      "metadata": {
        "colab": {
          "base_uri": "https://localhost:8080/"
        },
        "id": "ajGbVG0U5p4K",
        "outputId": "85c7e194-0eeb-4c4a-cefb-317f781ef3e5"
      },
      "execution_count": 12,
      "outputs": [
        {
          "output_type": "stream",
          "name": "stdout",
          "text": [
            "2020-02-03 04:05:06.000007\n"
          ]
        }
      ]
    },
    {
      "cell_type": "code",
      "source": [
        "from datetime import date\n",
        "time1 = date(2023,3,5)\n",
        "time2 = date(2020,2,1)\n",
        "\n",
        "time1-time2"
      ],
      "metadata": {
        "colab": {
          "base_uri": "https://localhost:8080/"
        },
        "id": "5bXuZiHj56vX",
        "outputId": "6bab12d2-f7c6-4aa5-8dc3-725068851a51"
      },
      "execution_count": 14,
      "outputs": [
        {
          "output_type": "execute_result",
          "data": {
            "text/plain": [
              "datetime.timedelta(days=1128)"
            ]
          },
          "metadata": {},
          "execution_count": 14
        }
      ]
    },
    {
      "cell_type": "code",
      "source": [
        "dt1 = datetime(2023,3,5,13,20)\n",
        "dt2 = datetime(2020,2,1,23,43)\n",
        "\n",
        "dt1-dt2"
      ],
      "metadata": {
        "colab": {
          "base_uri": "https://localhost:8080/"
        },
        "id": "olPIvgcD6lBV",
        "outputId": "7bc95393-ce0e-4b3c-8d8e-75012f5347d6"
      },
      "execution_count": 16,
      "outputs": [
        {
          "output_type": "execute_result",
          "data": {
            "text/plain": [
              "datetime.timedelta(days=1127, seconds=49020)"
            ]
          },
          "metadata": {},
          "execution_count": 16
        }
      ]
    }
  ]
}