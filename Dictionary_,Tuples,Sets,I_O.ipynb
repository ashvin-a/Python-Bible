{
  "nbformat": 4,
  "nbformat_minor": 0,
  "metadata": {
    "colab": {
      "provenance": [],
      "authorship_tag": "ABX9TyPDsBE/XSW0F2gx1Al9Kxh1",
      "include_colab_link": true
    },
    "kernelspec": {
      "name": "python3",
      "display_name": "Python 3"
    },
    "language_info": {
      "name": "python"
    }
  },
  "cells": [
    {
      "cell_type": "markdown",
      "metadata": {
        "id": "view-in-github",
        "colab_type": "text"
      },
      "source": [
        "<a href=\"https://colab.research.google.com/github/ashvin-a/Python-Bible/blob/main/Dictionary_%2CTuples%2CSets%2CI_O.ipynb\" target=\"_parent\"><img src=\"https://colab.research.google.com/assets/colab-badge.svg\" alt=\"Open In Colab\"/></a>"
      ]
    },
    {
      "cell_type": "code",
      "execution_count": null,
      "metadata": {
        "colab": {
          "base_uri": "https://localhost:8080/"
        },
        "id": "5mU6rkh0JaaF",
        "outputId": "de8cbf2e-6155-48f3-c5e1-ac32254a8dd0"
      },
      "outputs": [
        {
          "output_type": "stream",
          "name": "stdout",
          "text": [
            "val1\n",
            "dict_keys(['h1', 'h2', 'h3', 'h4', 'k4'])\n",
            "dict_values([1, 2, [1, 2, 3], {'kry1': 'val1'}, 'heheh'])\n",
            "dict_items([('h1', 1), ('h2', 2), ('h3', [1, 2, 3]), ('h4', {'kry1': 'val1'}), ('k4', 'heheh')])\n"
          ]
        }
      ],
      "source": [
        "#Dictionaries\n",
        "d = {'h1':1,'h2':2,'h3':[1,2,3],'h4':{'kry1':'val1'}}\n",
        "print(d['h4']['kry1'])\n",
        "\n",
        "d['k4']='heheh' #Added new entry to dictionary\n",
        "\n",
        "# print(d)\n",
        "\n",
        "print(d.keys())\n",
        "print(d.values())\n",
        "print(d.items())"
      ]
    },
    {
      "cell_type": "code",
      "source": [
        "# Tuple\n",
        "\n",
        "t = (1,2,'one','two',1,3,4,5)\n",
        "# t[1] = 3 wont work\n",
        "\n",
        "t.index('one') # gives index\n",
        "t.count(3) # Gives count"
      ],
      "metadata": {
        "colab": {
          "base_uri": "https://localhost:8080/"
        },
        "id": "yaUnuh3ZKeZz",
        "outputId": "f8a8ac0d-e9dd-4850-89a4-31dc01dc87eb"
      },
      "execution_count": null,
      "outputs": [
        {
          "output_type": "execute_result",
          "data": {
            "text/plain": [
              "1"
            ]
          },
          "metadata": {},
          "execution_count": 10
        }
      ]
    },
    {
      "cell_type": "code",
      "source": [
        "#Sets\n",
        "# All values in set should be unique!!\n",
        "set_aan = set()\n"
      ],
      "metadata": {
        "id": "5-EE-K7EL6X_"
      },
      "execution_count": null,
      "outputs": []
    },
    {
      "cell_type": "code",
      "source": [
        "set_aan.add('hehe')\n",
        "set_aan.add('huhu')\n",
        "set_aan\n",
        "\n",
        "lala = [1,1,1,1,1,13,3,3,3,3,32,2,2,2,22,25,5,5,555,544,0,44,4,4,4,44]\n",
        "set(lala) # Really useful for finding unique items in a list. But its not ordered"
      ],
      "metadata": {
        "colab": {
          "base_uri": "https://localhost:8080/"
        },
        "id": "RM6Sx2YZMSmf",
        "outputId": "17133953-4ef0-4f31-9aa1-ae95d6daacbf"
      },
      "execution_count": null,
      "outputs": [
        {
          "output_type": "execute_result",
          "data": {
            "text/plain": [
              "{0, 1, 2, 3, 4, 5, 13, 22, 25, 32, 44, 544, 555}"
            ]
          },
          "metadata": {},
          "execution_count": 19
        }
      ]
    },
    {
      "cell_type": "code",
      "source": [
        "#Files ppd\n",
        "%%writefile hehe_file.txt\n",
        "this is some bs that im typing into a text file which i created via python.\n",
        "(veruthe kazhapp)"
      ],
      "metadata": {
        "colab": {
          "base_uri": "https://localhost:8080/"
        },
        "id": "lDScm31IO2xS",
        "outputId": "3ba593f1-93b5-4c43-fa1e-2478ec9f1f54"
      },
      "execution_count": null,
      "outputs": [
        {
          "output_type": "stream",
          "name": "stdout",
          "text": [
            "Writing hehe_file.txt\n"
          ]
        }
      ]
    },
    {
      "cell_type": "code",
      "source": [
        "var = open('hehe_file.txt')\n",
        "ver = open('baha.txt')"
      ],
      "metadata": {
        "id": "WPLx50ADPU8g"
      },
      "execution_count": null,
      "outputs": []
    },
    {
      "cell_type": "code",
      "source": [
        "var.read() #while reading a file, a cursr moves from start to end of file.\n",
        "# So inorder to read it once more, we need to relocate the postion of the\n",
        "# cursor to the beginning\n",
        "var.read() #This gives nothing.\n",
        "var.seek(0) #This relocates it to the start.\n",
        "var.read()\n",
        "var.seek(0)"
      ],
      "metadata": {
        "colab": {
          "base_uri": "https://localhost:8080/"
        },
        "id": "IHGzwp0pQGyz",
        "outputId": "5cabe9eb-c13e-4584-8f8f-edffdc1a1413"
      },
      "execution_count": null,
      "outputs": [
        {
          "output_type": "execute_result",
          "data": {
            "text/plain": [
              "0"
            ]
          },
          "metadata": {},
          "execution_count": 33
        }
      ]
    },
    {
      "cell_type": "code",
      "source": [
        "var.readlines() #Keeps each line in the txt as an element in an array."
      ],
      "metadata": {
        "colab": {
          "base_uri": "https://localhost:8080/"
        },
        "id": "s2d7APuxRHUy",
        "outputId": "7fa80725-a623-44d2-e70c-e30a4943470d"
      },
      "execution_count": null,
      "outputs": [
        {
          "output_type": "execute_result",
          "data": {
            "text/plain": [
              "['this is some bs that im typing into a text file which i created via python.\\n',\n",
              " '(veruthe kazhapp)\\n']"
            ]
          },
          "metadata": {},
          "execution_count": 34
        }
      ]
    },
    {
      "cell_type": "code",
      "source": [
        "# How to read a file like a PRO!\n",
        "\n",
        "with open('hehe_file.txt') as hehe:\n",
        "    contents = hehe.read() # This will automatically close after reading it."
      ],
      "metadata": {
        "colab": {
          "base_uri": "https://localhost:8080/",
          "height": 35
        },
        "id": "LdWH7eWrSC7B",
        "outputId": "d3a52ef5-3a31-4949-9178-bff7c0af53e3"
      },
      "execution_count": null,
      "outputs": [
        {
          "output_type": "execute_result",
          "data": {
            "text/plain": [
              "'this is some bs that im typing into a text file which i created via python.\\n(veruthe kazhapp)\\n'"
            ],
            "application/vnd.google.colaboratory.intrinsic+json": {
              "type": "string"
            }
          },
          "metadata": {},
          "execution_count": 35
        }
      ]
    },
    {
      "cell_type": "code",
      "source": [
        "with open('hehe_file.txt', mode='a')as wew:\n",
        "    #modes can be r->read,w->write,a->append r+ -> read and write w+ ->write and read\n",
        "    wew.write('\\nIthu nammal add cheythe')"
      ],
      "metadata": {
        "id": "nEosA3vlSoNF"
      },
      "execution_count": null,
      "outputs": []
    },
    {
      "cell_type": "code",
      "source": [
        "with open('hehe_file.txt') as hehe:\n",
        "    contents = hehe.read()\n",
        "    print(contents)"
      ],
      "metadata": {
        "colab": {
          "base_uri": "https://localhost:8080/"
        },
        "id": "HTELN6c3U35N",
        "outputId": "8f57b617-7453-43df-ec41-1e71f78195ce"
      },
      "execution_count": null,
      "outputs": [
        {
          "output_type": "stream",
          "name": "stdout",
          "text": [
            "\n",
            "buhahahaha\n"
          ]
        }
      ]
    },
    {
      "cell_type": "code",
      "source": [
        "with open('hehe_file.txt',mode ='w') as f:\n",
        "    f.write('\\nbuhahahaha')"
      ],
      "metadata": {
        "id": "m4Nv9DJaVJya"
      },
      "execution_count": null,
      "outputs": []
    },
    {
      "cell_type": "code",
      "source": [
        "d = {'k1':[{'nest_key':['deep shit',['hello']]}]}\n",
        "\n",
        "d['k1'][0]['nest_key'][1][0]"
      ],
      "metadata": {
        "colab": {
          "base_uri": "https://localhost:8080/",
          "height": 35
        },
        "id": "59DUGuXaWMIP",
        "outputId": "c68d7d5b-df01-4a5d-fb09-3463cce3c733"
      },
      "execution_count": null,
      "outputs": [
        {
          "output_type": "execute_result",
          "data": {
            "text/plain": [
              "'hello'"
            ],
            "application/vnd.google.colaboratory.intrinsic+json": {
              "type": "string"
            }
          },
          "metadata": {},
          "execution_count": 55
        }
      ]
    }
  ]
}