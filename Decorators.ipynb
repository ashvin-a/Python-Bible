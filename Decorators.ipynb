{
  "nbformat": 4,
  "nbformat_minor": 0,
  "metadata": {
    "colab": {
      "provenance": [],
      "authorship_tag": "ABX9TyNDdI07U896ccrcZq4IH1zZ",
      "include_colab_link": true
    },
    "kernelspec": {
      "name": "python3",
      "display_name": "Python 3"
    },
    "language_info": {
      "name": "python"
    }
  },
  "cells": [
    {
      "cell_type": "markdown",
      "metadata": {
        "id": "view-in-github",
        "colab_type": "text"
      },
      "source": [
        "<a href=\"https://colab.research.google.com/github/ashvin-a/Python-Bible/blob/main/Decorators.ipynb\" target=\"_parent\"><img src=\"https://colab.research.google.com/assets/colab-badge.svg\" alt=\"Open In Colab\"/></a>"
      ]
    },
    {
      "cell_type": "code",
      "execution_count": 1,
      "metadata": {
        "id": "5lOl_4f9R4vL"
      },
      "outputs": [],
      "source": [
        "def first():\n",
        "    return 'hey there'\n",
        "\n",
        ""
      ]
    },
    {
      "cell_type": "code",
      "source": [
        "first(\n",
        ")"
      ],
      "metadata": {
        "colab": {
          "base_uri": "https://localhost:8080/",
          "height": 36
        },
        "id": "x8tzsX_CSS1V",
        "outputId": "d8e47191-2635-49fb-e33c-27c1b62948ef"
      },
      "execution_count": 2,
      "outputs": [
        {
          "output_type": "execute_result",
          "data": {
            "text/plain": [
              "'hey there'"
            ],
            "application/vnd.google.colaboratory.intrinsic+json": {
              "type": "string"
            }
          },
          "metadata": {},
          "execution_count": 2
        }
      ]
    },
    {
      "cell_type": "code",
      "source": [
        "second = first\n",
        "second()"
      ],
      "metadata": {
        "colab": {
          "base_uri": "https://localhost:8080/",
          "height": 36
        },
        "id": "74MSLURASapc",
        "outputId": "d37f0515-38e5-424c-f5d5-5b3cd330d0a9"
      },
      "execution_count": 4,
      "outputs": [
        {
          "output_type": "execute_result",
          "data": {
            "text/plain": [
              "'hey there'"
            ],
            "application/vnd.google.colaboratory.intrinsic+json": {
              "type": "string"
            }
          },
          "metadata": {},
          "execution_count": 4
        }
      ]
    },
    {
      "cell_type": "code",
      "source": [
        "del first\n",
        "first()\n"
      ],
      "metadata": {
        "colab": {
          "base_uri": "https://localhost:8080/",
          "height": 192
        },
        "id": "QFSBAY-zSedf",
        "outputId": "cd398998-4c05-48d0-d03a-c1a8ef6c5a79"
      },
      "execution_count": 6,
      "outputs": [
        {
          "output_type": "error",
          "ename": "NameError",
          "evalue": "ignored",
          "traceback": [
            "\u001b[0;31m---------------------------------------------------------------------------\u001b[0m",
            "\u001b[0;31mNameError\u001b[0m                                 Traceback (most recent call last)",
            "\u001b[0;32m<ipython-input-6-d725a5ecbfe0>\u001b[0m in \u001b[0;36m<cell line: 1>\u001b[0;34m()\u001b[0m\n\u001b[0;32m----> 1\u001b[0;31m \u001b[0;32mdel\u001b[0m \u001b[0mfirst\u001b[0m\u001b[0;34m\u001b[0m\u001b[0;34m\u001b[0m\u001b[0m\n\u001b[0m\u001b[1;32m      2\u001b[0m \u001b[0mfirst\u001b[0m\u001b[0;34m(\u001b[0m\u001b[0;34m)\u001b[0m\u001b[0;34m\u001b[0m\u001b[0;34m\u001b[0m\u001b[0m\n",
            "\u001b[0;31mNameError\u001b[0m: name 'first' is not defined"
          ]
        }
      ]
    },
    {
      "cell_type": "code",
      "source": [
        "second()#Wew it still runs"
      ],
      "metadata": {
        "colab": {
          "base_uri": "https://localhost:8080/",
          "height": 36
        },
        "id": "xAc0y3jnSkwc",
        "outputId": "d5a2c796-3ab1-45fe-f7de-731f2f31e365"
      },
      "execution_count": 7,
      "outputs": [
        {
          "output_type": "execute_result",
          "data": {
            "text/plain": [
              "'hey there'"
            ],
            "application/vnd.google.colaboratory.intrinsic+json": {
              "type": "string"
            }
          },
          "metadata": {},
          "execution_count": 7
        }
      ]
    },
    {
      "cell_type": "markdown",
      "source": [
        "##How to return a function within a function from outside"
      ],
      "metadata": {
        "id": "PjqVMJ-IUc2b"
      }
    },
    {
      "cell_type": "code",
      "source": [
        "\n",
        "def thee():\n",
        "    def verum_thee():\n",
        "        return 'Ithu verum thee!'\n",
        "    return verum_thee"
      ],
      "metadata": {
        "id": "iRGwJTbzTvbq"
      },
      "execution_count": 8,
      "outputs": []
    },
    {
      "cell_type": "code",
      "source": [
        "thee()"
      ],
      "metadata": {
        "colab": {
          "base_uri": "https://localhost:8080/"
        },
        "id": "F2GbSRpbUC6B",
        "outputId": "aee2ddad-ea2f-435e-cc69-3b42dbaa0312"
      },
      "execution_count": 9,
      "outputs": [
        {
          "output_type": "execute_result",
          "data": {
            "text/plain": [
              "<function __main__.thee.<locals>.verum_thee()>"
            ]
          },
          "metadata": {},
          "execution_count": 9
        }
      ]
    },
    {
      "cell_type": "code",
      "source": [
        "some_thee = thee()\n",
        "print(some_thee)\n",
        "print(some_thee())"
      ],
      "metadata": {
        "colab": {
          "base_uri": "https://localhost:8080/"
        },
        "id": "dngSeZo0UKJm",
        "outputId": "5948b428-cf4b-447a-f196-75e92c5ed3c7"
      },
      "execution_count": 12,
      "outputs": [
        {
          "output_type": "stream",
          "name": "stdout",
          "text": [
            "<function thee.<locals>.verum_thee at 0x7b18b1f8a7a0>\n",
            "Ithu verum thee!\n"
          ]
        }
      ]
    },
    {
      "cell_type": "markdown",
      "source": [
        "##How to pass function as an argument"
      ],
      "metadata": {
        "id": "zqhivV6xU_pX"
      }
    },
    {
      "cell_type": "code",
      "source": [
        "def hello():\n",
        "    return 'Hi monuu!'\n",
        "\n",
        "def socket_fun(fun):\n",
        "    print('matte saadanam workin aan')\n",
        "    print(fun())\n",
        "\n",
        "socket_fun(hello)"
      ],
      "metadata": {
        "colab": {
          "base_uri": "https://localhost:8080/"
        },
        "id": "eMWoE5b0VPSV",
        "outputId": "b7acd9a4-8291-47f1-98c4-dfa5fcd33857"
      },
      "execution_count": 13,
      "outputs": [
        {
          "output_type": "stream",
          "name": "stdout",
          "text": [
            "matte saadanam workin aan\n",
            "Hi monuu!\n"
          ]
        }
      ]
    },
    {
      "cell_type": "markdown",
      "source": [
        "##How to create a decorator"
      ],
      "metadata": {
        "id": "7wmwwNUEVt8O"
      }
    },
    {
      "cell_type": "code",
      "source": [
        "def deco_cheyyam(fun):\n",
        "\n",
        "    def wrapper():\n",
        "\n",
        "        print('some shit before function')\n",
        "        fun()\n",
        "        print('some shit after function')\n",
        "\n",
        "    return wrapper"
      ],
      "metadata": {
        "id": "PGzKyFh5Vx2s"
      },
      "execution_count": 14,
      "outputs": []
    },
    {
      "cell_type": "code",
      "source": [
        "def upgrade_venam():\n",
        "    print('Upgrade chahiyee')\n",
        "\n",
        "# upgrade_venam()"
      ],
      "metadata": {
        "id": "sqBsStToWxuB"
      },
      "execution_count": 26,
      "outputs": []
    },
    {
      "cell_type": "code",
      "source": [
        "upgraded = deco_cheyyam(upgrade_venam)\n",
        "upgraded()"
      ],
      "metadata": {
        "colab": {
          "base_uri": "https://localhost:8080/"
        },
        "id": "_wuDtcleXHjQ",
        "outputId": "547d80e6-50c3-4d81-90ed-256861c8e96f"
      },
      "execution_count": 27,
      "outputs": [
        {
          "output_type": "stream",
          "name": "stdout",
          "text": [
            "some shit before function\n",
            "Upgrade chahiyee\n",
            "some shit after function\n"
          ]
        }
      ]
    },
    {
      "cell_type": "code",
      "source": [
        "@deco_cheyyam #A freaking on/off switch\n",
        "def upgrade_venam():\n",
        "    print('Upgrade chahiyee')"
      ],
      "metadata": {
        "id": "5dJcR9HjYVzU"
      },
      "execution_count": 32,
      "outputs": []
    },
    {
      "cell_type": "code",
      "source": [
        "upgrade_venam()"
      ],
      "metadata": {
        "colab": {
          "base_uri": "https://localhost:8080/"
        },
        "id": "sDD8mmLLYe9h",
        "outputId": "1839f138-06ca-40e6-8911-9c98ab12176d"
      },
      "execution_count": 33,
      "outputs": [
        {
          "output_type": "stream",
          "name": "stdout",
          "text": [
            "some shit before function\n",
            "Upgrade chahiyee\n",
            "some shit after function\n"
          ]
        }
      ]
    }
  ]
}