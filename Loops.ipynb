{
  "nbformat": 4,
  "nbformat_minor": 0,
  "metadata": {
    "colab": {
      "provenance": [],
      "authorship_tag": "ABX9TyOKhClhtkbUfgQNJ+YUDn3z",
      "include_colab_link": true
    },
    "kernelspec": {
      "name": "python3",
      "display_name": "Python 3"
    },
    "language_info": {
      "name": "python"
    }
  },
  "cells": [
    {
      "cell_type": "markdown",
      "metadata": {
        "id": "view-in-github",
        "colab_type": "text"
      },
      "source": [
        "<a href=\"https://colab.research.google.com/github/ashvin-a/Python-Bible/blob/main/Loops.ipynb\" target=\"_parent\"><img src=\"https://colab.research.google.com/assets/colab-badge.svg\" alt=\"Open In Colab\"/></a>"
      ]
    },
    {
      "cell_type": "code",
      "execution_count": null,
      "metadata": {
        "id": "MN2grEQOiBT9"
      },
      "outputs": [],
      "source": [
        "# Tuple unpacking\n",
        "tup = [(1,2),(3,4),(5,6)]\n",
        "\n",
        "for i in tup:\n",
        "    print(i)\n",
        "\n",
        "for (a,b) in tup:\n",
        "    print(a,b) #How to get items from a list of tuples\n",
        "\n",
        "for a,b in tup:\n",
        "    print(b)\n",
        "\n"
      ]
    },
    {
      "cell_type": "code",
      "source": [
        "d = {'k1':'hehe','k2':69,'k3':'blah'}\n",
        "\n",
        "for i in d:\n",
        "    print(i)\n",
        "\n",
        "for i in d.values(): #similarly .keys() and .items()\n",
        "    print(i)\n"
      ],
      "metadata": {
        "id": "9wa2auidg0xE"
      },
      "execution_count": null,
      "outputs": []
    },
    {
      "cell_type": "code",
      "source": [
        "#Some useful operators in Python\n",
        "\n",
        "# range()\n",
        "for i in range(10):\n",
        "    print(i)\n",
        "\n",
        "# enumerate()\n",
        "l = [1,2,3,4,'a','b','c']\n",
        "\n",
        "for i in enumerate(l):\n",
        "    print(i)\n",
        "\n",
        "for i,value in enumerate(l):\n",
        "    print(value)\n",
        "\n"
      ],
      "metadata": {
        "id": "fsXW990-iAjJ"
      },
      "execution_count": null,
      "outputs": []
    },
    {
      "cell_type": "code",
      "source": [
        "# zip()\n",
        "'''Zip function can only give you the output until all the list have same length'''\n",
        "list_1 = ['a','b','c','d']\n",
        "list_2 = [1,2,3,4]\n",
        "list_3 = [23,34,5123,234234,]\n",
        "\n",
        "for i in zip(list_1,list_2):\n",
        "    print(i)\n",
        "\n",
        "for i in zip(list_1,list_2,list_3):\n",
        "    print(i)\n",
        "\n",
        "list(zip(list_1,list_2,list_3)) # Gives a list of all tuples"
      ],
      "metadata": {
        "id": "6HXsHWsDjaH6"
      },
      "execution_count": null,
      "outputs": []
    },
    {
      "cell_type": "code",
      "source": [
        "# Min Max Keyword\n",
        "\n",
        "l1 = [1,2,3,4,5]\n",
        "print(min(l1))\n",
        "print(max(l1))\n"
      ],
      "metadata": {
        "colab": {
          "base_uri": "https://localhost:8080/"
        },
        "id": "VWzsBs-Bk5xg",
        "outputId": "1436eb10-3c16-46c6-b8df-447a298f5252"
      },
      "execution_count": null,
      "outputs": [
        {
          "output_type": "stream",
          "name": "stdout",
          "text": [
            "1\n",
            "5\n"
          ]
        }
      ]
    },
    {
      "cell_type": "code",
      "source": [
        "# Input\n",
        "# The values received via input will be having string datatype.\n",
        "\n",
        "res = input('Enter some shit: ')\n"
      ],
      "metadata": {
        "colab": {
          "base_uri": "https://localhost:8080/"
        },
        "id": "75t0C8HmlbOZ",
        "outputId": "190f5fe2-efeb-46bc-ce36-4cc2db4c1315"
      },
      "execution_count": null,
      "outputs": [
        {
          "name": "stdout",
          "output_type": "stream",
          "text": [
            "Enter some shit: 3049580394\n"
          ]
        }
      ]
    },
    {
      "cell_type": "code",
      "source": [
        "print(res)\n",
        "type(res)"
      ],
      "metadata": {
        "colab": {
          "base_uri": "https://localhost:8080/"
        },
        "id": "UGMwVLuNm7f2",
        "outputId": "c77bd912-ab63-4e28-f2aa-9710099cd5fc"
      },
      "execution_count": null,
      "outputs": [
        {
          "output_type": "stream",
          "name": "stdout",
          "text": [
            "3049580394\n"
          ]
        },
        {
          "output_type": "execute_result",
          "data": {
            "text/plain": [
              "str"
            ]
          },
          "metadata": {},
          "execution_count": 18
        }
      ]
    },
    {
      "cell_type": "markdown",
      "source": [
        "# List Comprehensions"
      ],
      "metadata": {
        "id": "vr3m7aMqnRX_"
      }
    },
    {
      "cell_type": "code",
      "source": [
        "my_str = 'hey there'\n",
        "\n",
        "arr = []\n",
        "\n",
        "for i in my_str:\n",
        "    arr.append(i)\n",
        "\n",
        "# More Efficient aka line korakkuna method\n",
        "\n",
        "arr1 = [val for val in my_str] #Scene saadanam\n",
        "\n",
        "# print(arr)\n",
        "# print(arr1)\n",
        "\n",
        "# Flat out operations\n",
        "\n",
        "arr2 = [num*2 for num in range(10)]\n",
        "print(arr2)"
      ],
      "metadata": {
        "colab": {
          "base_uri": "https://localhost:8080/"
        },
        "id": "fjR2C6tynOeX",
        "outputId": "8a18a23d-2716-453d-9e4e-d4c90a7aecea"
      },
      "execution_count": null,
      "outputs": [
        {
          "output_type": "stream",
          "name": "stdout",
          "text": [
            "[0, 2, 4, 6, 8, 10, 12, 14, 16, 18]\n",
            "h\n"
          ]
        }
      ]
    },
    {
      "cell_type": "code",
      "source": [
        "st = 'Print only the words that starts with s in this sentence'\n",
        "\n",
        "l = st.split() #Check out this split function.\n",
        "arr = [val for val in l if val[0]=='s'or val[0]=='S']\n",
        "print(arr)"
      ],
      "metadata": {
        "colab": {
          "base_uri": "https://localhost:8080/"
        },
        "id": "l_xrt-eoprDj",
        "outputId": "0e7a0a51-5077-4603-f2e8-2d6f6a76c5fb"
      },
      "execution_count": null,
      "outputs": [
        {
          "output_type": "stream",
          "name": "stdout",
          "text": [
            "['starts', 's', 'sentence']\n"
          ]
        }
      ]
    },
    {
      "cell_type": "code",
      "source": [
        "import string\n",
        "st = 'Print every word in this sentence that has even number of letters'\n",
        "\n",
        "arr = [val for val in st.split() if (len(val) % 2) ==0] #hehe aa len() nokkiyekk\n",
        "print(arr)"
      ],
      "metadata": {
        "colab": {
          "base_uri": "https://localhost:8080/"
        },
        "id": "6UNg_PjRriha",
        "outputId": "7dbd1408-0bed-44b7-ae68-a150962dc21c"
      },
      "execution_count": null,
      "outputs": [
        {
          "output_type": "stream",
          "name": "stdout",
          "text": [
            "['word', 'in', 'this', 'sentence', 'that', 'even', 'number', 'of']\n"
          ]
        }
      ]
    }
  ]
}