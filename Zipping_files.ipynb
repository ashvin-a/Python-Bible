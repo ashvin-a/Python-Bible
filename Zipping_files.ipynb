{
  "nbformat": 4,
  "nbformat_minor": 0,
  "metadata": {
    "colab": {
      "provenance": [],
      "authorship_tag": "ABX9TyN0QVbgNHHKdXLu8j7fZKBo",
      "include_colab_link": true
    },
    "kernelspec": {
      "name": "python3",
      "display_name": "Python 3"
    },
    "language_info": {
      "name": "python"
    }
  },
  "cells": [
    {
      "cell_type": "markdown",
      "metadata": {
        "id": "view-in-github",
        "colab_type": "text"
      },
      "source": [
        "<a href=\"https://colab.research.google.com/github/ashvin-a/Python-Bible/blob/main/Zipping_files.ipynb\" target=\"_parent\"><img src=\"https://colab.research.google.com/assets/colab-badge.svg\" alt=\"Open In Colab\"/></a>"
      ]
    },
    {
      "cell_type": "code",
      "execution_count": null,
      "metadata": {
        "colab": {
          "base_uri": "https://localhost:8080/"
        },
        "id": "NLARuudDCL8u",
        "outputId": "1d6ae272-c56c-4716-913a-013de35f0d82"
      },
      "outputs": [
        {
          "output_type": "execute_result",
          "data": {
            "text/plain": [
              "<_io.TextIOWrapper name='ex2.txt' mode='x' encoding='UTF-8'>"
            ]
          },
          "metadata": {},
          "execution_count": 3
        }
      ],
      "source": [
        "open('ex1.txt','x') #Creates file\n",
        "open('ex2.txt','x')"
      ]
    },
    {
      "cell_type": "code",
      "source": [
        "f = open('ex1.txt','w')\n",
        "f.write('One aanu')\n",
        "f.close()"
      ],
      "metadata": {
        "id": "0CWRDd-fC8cO"
      },
      "execution_count": null,
      "outputs": []
    },
    {
      "cell_type": "code",
      "source": [
        "f = open('ex2.txt','w')\n",
        "f.write('Two aanu')\n",
        "f.close()"
      ],
      "metadata": {
        "id": "E2n6eUtyDJOM"
      },
      "execution_count": null,
      "outputs": []
    },
    {
      "cell_type": "code",
      "source": [
        "import zipfile\n",
        "comp = zipfile.ZipFile('comp_aan.zip','w')"
      ],
      "metadata": {
        "id": "LOeu-op2DTmu"
      },
      "execution_count": null,
      "outputs": []
    },
    {
      "cell_type": "code",
      "source": [
        "comp.write('ex1.txt',compress_type=zipfile.ZIP_DEFLATED)\n",
        "comp.write('ex2.txt',compress_type=zipfile.ZIP_DEFLATED)\n",
        "comp.close()"
      ],
      "metadata": {
        "id": "pQhtIHS5D0-d"
      },
      "execution_count": null,
      "outputs": []
    },
    {
      "cell_type": "code",
      "source": [
        "zip = zipfile.ZipFile('comp_aan.zip','r')\n",
        "zip.extractall('extracted')"
      ],
      "metadata": {
        "id": "P9SnQMSXEbWr"
      },
      "execution_count": null,
      "outputs": []
    },
    {
      "cell_type": "code",
      "source": [
        "import shutil\n",
        "\n",
        "output = 'datazip'\n",
        "shutil.make_archive(output,'zip','/content/sample_data')"
      ],
      "metadata": {
        "colab": {
          "base_uri": "https://localhost:8080/",
          "height": 35
        },
        "id": "xRN0Q9g2FJ_t",
        "outputId": "f41cad90-7880-4469-a67e-0081b21b6f1a"
      },
      "execution_count": null,
      "outputs": [
        {
          "output_type": "execute_result",
          "data": {
            "text/plain": [
              "'/content/datazip.zip'"
            ],
            "application/vnd.google.colaboratory.intrinsic+json": {
              "type": "string"
            }
          },
          "metadata": {},
          "execution_count": 11
        }
      ]
    }
  ]
}