{
  "nbformat": 4,
  "nbformat_minor": 0,
  "metadata": {
    "colab": {
      "provenance": [],
      "authorship_tag": "ABX9TyMT3HbgBMLuqtGDA+P4wuLi",
      "include_colab_link": true
    },
    "kernelspec": {
      "name": "python3",
      "display_name": "Python 3"
    },
    "language_info": {
      "name": "python"
    }
  },
  "cells": [
    {
      "cell_type": "markdown",
      "metadata": {
        "id": "view-in-github",
        "colab_type": "text"
      },
      "source": [
        "<a href=\"https://colab.research.google.com/github/ashvin-a/Python-Bible/blob/main/Magic_Methods.ipynb\" target=\"_parent\"><img src=\"https://colab.research.google.com/assets/colab-badge.svg\" alt=\"Open In Colab\"/></a>"
      ]
    },
    {
      "cell_type": "markdown",
      "source": [
        "##Magic methods"
      ],
      "metadata": {
        "id": "ImjUxORHXj8Y"
      }
    },
    {
      "cell_type": "code",
      "execution_count": null,
      "metadata": {
        "id": "EglBGCCiXdO8"
      },
      "outputs": [],
      "source": [
        "class Food():\n",
        "\n",
        "    def __init__(self,name,price,rating):\n",
        "        self.name = name\n",
        "        self.price = price\n",
        "        self.rating = rating\n",
        "\n",
        "    def __str__(self): #Used to give a string representation for the class.\n",
        "        return f'The dish is {self.name} which costs {self.price} which has a rating of {self.rating}'\n",
        "\n",
        "    def __len__(self):\n",
        "        return self.price\n",
        "\n",
        "    def __del__(self):\n",
        "        print('Food delete aayitonde')\n",
        "\n",
        "chilly_chicken = Food('Chilly Chicken',110,3)\n",
        "\n"
      ]
    },
    {
      "cell_type": "code",
      "source": [
        "print(str(chilly_chicken))\n",
        "print(len(chilly_chicken))\n",
        "\n",
        "del chilly_chicken #We can delete the variable using del."
      ],
      "metadata": {
        "colab": {
          "base_uri": "https://localhost:8080/"
        },
        "id": "EXs6tSRfZW_l",
        "outputId": "4a20e93b-e52a-4e32-be0f-845a032f5f95"
      },
      "execution_count": null,
      "outputs": [
        {
          "output_type": "stream",
          "name": "stdout",
          "text": [
            "The dish is Chilly Chicken which costs 110 which has a rating of 3\n",
            "110\n",
            "Food delete aayitonde\n"
          ]
        }
      ]
    },
    {
      "cell_type": "code",
      "source": [
        "chilly_chicken"
      ],
      "metadata": {
        "colab": {
          "base_uri": "https://localhost:8080/"
        },
        "id": "8e4sqOGaaJ37",
        "outputId": "d7c1c33c-6b9c-4926-be67-a79d9668665d"
      },
      "execution_count": null,
      "outputs": [
        {
          "output_type": "execute_result",
          "data": {
            "text/plain": [
              "<__main__.Food at 0x7b4ac30f2d40>"
            ]
          },
          "metadata": {},
          "execution_count": 16
        }
      ]
    },
    {
      "cell_type": "code",
      "source": [
        "class Line():\n",
        "\n",
        "    def __init__(self,coord1,coord2):\n",
        "        self.coord1 = coord1\n",
        "        self.coord2 = coord2\n",
        "\n",
        "\n",
        "    def distance(self):\n",
        "        x1,y1 = self.coord1\n",
        "        x2,y2 = self.coord2\n",
        "        return(((x2-x1)**2 + (y2-y1)**2)**0.5)\n",
        "\n",
        "    def slope(self):\n",
        "        x1,y1 = self.coord1\n",
        "        x2,y2 = self.coord2\n",
        "        return ((y2-y1)/(x2-x1))"
      ],
      "metadata": {
        "id": "GYHFtMHbbWKt"
      },
      "execution_count": null,
      "outputs": []
    },
    {
      "cell_type": "code",
      "source": [
        "l1 = Line((3,2),(8,10))\n",
        "l1.slope()\n",
        "l1.distance()"
      ],
      "metadata": {
        "colab": {
          "base_uri": "https://localhost:8080/"
        },
        "id": "UuEEo305bZp8",
        "outputId": "ace5b455-7b30-438e-9ee7-5ab44de73a93"
      },
      "execution_count": null,
      "outputs": [
        {
          "output_type": "execute_result",
          "data": {
            "text/plain": [
              "9.433981132056603"
            ]
          },
          "metadata": {},
          "execution_count": 28
        }
      ]
    },
    {
      "cell_type": "code",
      "source": [
        "import math\n",
        "class Cylinder():\n",
        "\n",
        "    def __init__(self,radius=1,height=1):\n",
        "        self.radius = radius\n",
        "        self.height = height\n",
        "\n",
        "    def volume(self):\n",
        "        return math.pi*(self.radius**2)*self.height\n",
        "\n",
        "c1 = Cylinder(2,3)\n",
        "c1.volume()"
      ],
      "metadata": {
        "colab": {
          "base_uri": "https://localhost:8080/"
        },
        "id": "0lXJw6uVdT95",
        "outputId": "00164ca5-d0aa-46b0-c915-c392fcb97cc4"
      },
      "execution_count": null,
      "outputs": [
        {
          "output_type": "execute_result",
          "data": {
            "text/plain": [
              "37.69911184307752"
            ]
          },
          "metadata": {},
          "execution_count": 29
        }
      ]
    }
  ]
}