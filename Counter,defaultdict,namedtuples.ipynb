{
  "nbformat": 4,
  "nbformat_minor": 0,
  "metadata": {
    "colab": {
      "provenance": [],
      "authorship_tag": "ABX9TyNaYEMP47iS7pTlHLHQjrb/",
      "include_colab_link": true
    },
    "kernelspec": {
      "name": "python3",
      "display_name": "Python 3"
    },
    "language_info": {
      "name": "python"
    }
  },
  "cells": [
    {
      "cell_type": "markdown",
      "metadata": {
        "id": "view-in-github",
        "colab_type": "text"
      },
      "source": [
        "<a href=\"https://colab.research.google.com/github/ashvin-a/Python-Bible/blob/main/Counter%2Cdefaultdict%2Cnamedtuples.ipynb\" target=\"_parent\"><img src=\"https://colab.research.google.com/assets/colab-badge.svg\" alt=\"Open In Colab\"/></a>"
      ]
    },
    {
      "cell_type": "markdown",
      "source": [
        "#Counter\n",
        "Used to count the number of occurences of a character in a list"
      ],
      "metadata": {
        "id": "6ClV8zsq18Bw"
      }
    },
    {
      "cell_type": "code",
      "execution_count": null,
      "metadata": {
        "colab": {
          "base_uri": "https://localhost:8080/"
        },
        "id": "UsVHRjla1wCh",
        "outputId": "269091ae-2897-4870-bbaa-d63ee3791b8a"
      },
      "outputs": [
        {
          "output_type": "stream",
          "name": "stdout",
          "text": [
            "Counter({1: 4, 3: 4, 5: 4, 7: 4, 4: 3, 2: 2, 22: 1, 23: 1, 544: 1, 44: 1, 67: 1})\n"
          ]
        }
      ],
      "source": [
        "from collections import Counter\n",
        "\n",
        "l = [1,1,1,1,22,2,2,23,3,3,3,3,5,5,5,5,544,4,4,4,44,67,7,7,7,7]\n",
        "\n",
        "print(Counter(l))"
      ]
    },
    {
      "cell_type": "markdown",
      "source": [
        "#Default Dictionary\n",
        "Assigns values to the keys in a dictionary that are not present."
      ],
      "metadata": {
        "id": "EhjqK9tw29pE"
      }
    },
    {
      "cell_type": "code",
      "source": [
        "from collections import defaultdict\n",
        "\n",
        "d = {}\n",
        "d['k1']='val1'"
      ],
      "metadata": {
        "colab": {
          "base_uri": "https://localhost:8080/"
        },
        "id": "x-974yIg3kmX",
        "outputId": "dce0a7bd-82a3-4aa9-e7f5-3259589ee04c"
      },
      "execution_count": null,
      "outputs": [
        {
          "output_type": "execute_result",
          "data": {
            "text/plain": [
              "{'k1': 'val1'}"
            ]
          },
          "metadata": {},
          "execution_count": 3
        }
      ]
    },
    {
      "cell_type": "code",
      "source": [
        "d = defaultdict(lambda:0)\n",
        "d['not_inthis']#gives 0 as output"
      ],
      "metadata": {
        "colab": {
          "base_uri": "https://localhost:8080/"
        },
        "id": "BpAyUOg530Kc",
        "outputId": "14f535d2-9b33-4492-dcfe-31df1f5b9a3a"
      },
      "execution_count": null,
      "outputs": [
        {
          "output_type": "execute_result",
          "data": {
            "text/plain": [
              "0"
            ]
          },
          "metadata": {},
          "execution_count": 4
        }
      ]
    },
    {
      "cell_type": "markdown",
      "source": [
        "#Named Tuple\n"
      ],
      "metadata": {
        "id": "jSnsqbaCtEFO"
      }
    },
    {
      "cell_type": "code",
      "source": [
        "from collections import namedtuple\n",
        "\n",
        "Dog = namedtuple('Dog',['name','age','breed'])"
      ],
      "metadata": {
        "id": "CVri7-Bk5MyF"
      },
      "execution_count": null,
      "outputs": []
    },
    {
      "cell_type": "code",
      "source": [
        "Dog"
      ],
      "metadata": {
        "colab": {
          "base_uri": "https://localhost:8080/"
        },
        "id": "QTRG6wkGtkCo",
        "outputId": "7ca354a9-6802-4f42-d556-9400549dff4e"
      },
      "execution_count": null,
      "outputs": [
        {
          "output_type": "execute_result",
          "data": {
            "text/plain": [
              "__main__.Dog"
            ]
          },
          "metadata": {},
          "execution_count": 2
        }
      ]
    },
    {
      "cell_type": "code",
      "source": [
        "d1 = Dog(name='Snoop',age='6',breed='Rott')\n",
        "type(d1)"
      ],
      "metadata": {
        "colab": {
          "base_uri": "https://localhost:8080/"
        },
        "id": "P0nYVnbDtmxH",
        "outputId": "d014e146-cfde-47d7-8546-79d05c6797e9"
      },
      "execution_count": null,
      "outputs": [
        {
          "output_type": "execute_result",
          "data": {
            "text/plain": [
              "__main__.Dog"
            ]
          },
          "metadata": {},
          "execution_count": 4
        }
      ]
    },
    {
      "cell_type": "code",
      "source": [
        "d1.age\n",
        "d1.name\n",
        "d1[0]"
      ],
      "metadata": {
        "colab": {
          "base_uri": "https://localhost:8080/",
          "height": 35
        },
        "id": "IoElNwIMt9NH",
        "outputId": "ec5e8fcc-d893-45f4-ea01-01b24e7191d6"
      },
      "execution_count": null,
      "outputs": [
        {
          "output_type": "execute_result",
          "data": {
            "text/plain": [
              "'Snoop'"
            ],
            "application/vnd.google.colaboratory.intrinsic+json": {
              "type": "string"
            }
          },
          "metadata": {},
          "execution_count": 9
        }
      ]
    }
  ]
}