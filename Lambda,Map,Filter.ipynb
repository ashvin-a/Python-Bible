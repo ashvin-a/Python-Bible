{
  "nbformat": 4,
  "nbformat_minor": 0,
  "metadata": {
    "colab": {
      "provenance": [],
      "authorship_tag": "ABX9TyPuxcP4O4L99ynjcOTOH+kr",
      "include_colab_link": true
    },
    "kernelspec": {
      "name": "python3",
      "display_name": "Python 3"
    },
    "language_info": {
      "name": "python"
    }
  },
  "cells": [
    {
      "cell_type": "markdown",
      "metadata": {
        "id": "view-in-github",
        "colab_type": "text"
      },
      "source": [
        "<a href=\"https://colab.research.google.com/github/ashvin-a/Python-Bible/blob/main/Lambda%2CMap%2CFilter.ipynb\" target=\"_parent\"><img src=\"https://colab.research.google.com/assets/colab-badge.svg\" alt=\"Open In Colab\"/></a>"
      ]
    },
    {
      "cell_type": "markdown",
      "source": [
        "#Map Functions\n",
        "used to apply a function to a list of items\n"
      ],
      "metadata": {
        "id": "-8114hfZswL7"
      }
    },
    {
      "cell_type": "code",
      "execution_count": null,
      "metadata": {
        "id": "EoOMHYa6spz0"
      },
      "outputs": [],
      "source": [
        "def sqit(num):\n",
        "    return num**2\n",
        "\n",
        "li = [1,2,3,4,5,6]\n",
        "\n",
        "for item in map(sqit,li):#WEW\n",
        "    print(item)\n",
        "\n",
        "#OR\n",
        "\n",
        "list(map(sqit,li)) # Just pass the function as it is dont put()."
      ]
    },
    {
      "cell_type": "markdown",
      "source": [
        "#Filter function\n",
        "\n"
      ],
      "metadata": {
        "id": "SQF8ZumDwgZb"
      }
    },
    {
      "cell_type": "code",
      "source": [
        "def check_even(num):\n",
        "    return (num%2==0)\n",
        "\n",
        "list(filter(check_even,li))"
      ],
      "metadata": {
        "id": "TGUhYRRcwwtn"
      },
      "execution_count": null,
      "outputs": []
    },
    {
      "cell_type": "markdown",
      "source": [
        "#Lambda Functions\n",
        "aka Anonymous functions.\n",
        "used mainly with map and filter.\n"
      ],
      "metadata": {
        "id": "fLRLS_ggxqI5"
      }
    },
    {
      "cell_type": "code",
      "source": [
        "def squareit(num):\n",
        "    return num**2\n",
        "\n",
        "# Same as\n",
        "lambda num:num**2"
      ],
      "metadata": {
        "colab": {
          "base_uri": "https://localhost:8080/"
        },
        "id": "lArP4A5sxpmE",
        "outputId": "8d972643-8fca-4b99-c01b-a14bbc0ea0b8"
      },
      "execution_count": null,
      "outputs": [
        {
          "output_type": "execute_result",
          "data": {
            "text/plain": [
              "<function __main__.<lambda>(num)>"
            ]
          },
          "metadata": {},
          "execution_count": 5
        }
      ]
    },
    {
      "cell_type": "code",
      "source": [
        "list(map(lambda num:num**2,li))\n",
        "\n",
        "list(filter(lambda num:num%2==0,li))"
      ],
      "metadata": {
        "colab": {
          "base_uri": "https://localhost:8080/"
        },
        "id": "yclVBlhMyYcF",
        "outputId": "cfcfcf21-06fd-4d5f-ef3b-c97472b8313c"
      },
      "execution_count": null,
      "outputs": [
        {
          "output_type": "execute_result",
          "data": {
            "text/plain": [
              "[2, 4, 6]"
            ]
          },
          "metadata": {},
          "execution_count": 7
        }
      ]
    }
  ]
}