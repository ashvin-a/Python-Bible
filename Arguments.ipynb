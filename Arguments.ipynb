{
  "nbformat": 4,
  "nbformat_minor": 0,
  "metadata": {
    "colab": {
      "provenance": [],
      "authorship_tag": "ABX9TyNzKHSnnJ1Uj4XKd1fButha",
      "include_colab_link": true
    },
    "kernelspec": {
      "name": "python3",
      "display_name": "Python 3"
    },
    "language_info": {
      "name": "python"
    }
  },
  "cells": [
    {
      "cell_type": "markdown",
      "metadata": {
        "id": "view-in-github",
        "colab_type": "text"
      },
      "source": [
        "<a href=\"https://colab.research.google.com/github/ashvin-a/Python-Bible/blob/main/Arguments.ipynb\" target=\"_parent\"><img src=\"https://colab.research.google.com/assets/colab-badge.svg\" alt=\"Open In Colab\"/></a>"
      ]
    },
    {
      "cell_type": "markdown",
      "source": [
        "#The power of *args and *kwargs"
      ],
      "metadata": {
        "id": "kfOkEaJGReWR"
      }
    },
    {
      "cell_type": "markdown",
      "source": [
        "###args is used for placing positional arguments."
      ],
      "metadata": {
        "id": "QkrLSbJbSSH8"
      }
    },
    {
      "cell_type": "code",
      "execution_count": null,
      "metadata": {
        "colab": {
          "base_uri": "https://localhost:8080/"
        },
        "id": "o6x6WHfQRa14",
        "outputId": "6ac42778-49e8-452e-de4a-fbddb3d09f77"
      },
      "outputs": [
        {
          "output_type": "execute_result",
          "data": {
            "text/plain": [
              "108"
            ]
          },
          "metadata": {},
          "execution_count": 5
        }
      ],
      "source": [
        "def func(*args):\n",
        "    return sum((args))\n",
        "\n",
        "func(12,3,4,4,5,6,67,7) #powerful"
      ]
    },
    {
      "cell_type": "markdown",
      "source": [
        "###kwargs id used for placing key value pairs"
      ],
      "metadata": {
        "id": "x4wLEKEvScYj"
      }
    },
    {
      "cell_type": "code",
      "source": [
        "def vfunc(**kwargs):\n",
        "    return(kwargs) #kwargs and args arent keywords\n",
        "vfunc(name='Ashvin',place='blah')"
      ],
      "metadata": {
        "colab": {
          "base_uri": "https://localhost:8080/"
        },
        "id": "hWurhusQSbXn",
        "outputId": "27aaa759-8fc1-4c36-8d05-6af8d1f27066"
      },
      "execution_count": null,
      "outputs": [
        {
          "output_type": "execute_result",
          "data": {
            "text/plain": [
              "{'name': 'Ashvin', 'place': 'blah'}"
            ]
          },
          "metadata": {},
          "execution_count": 6
        }
      ]
    },
    {
      "cell_type": "code",
      "source": [
        "def avial_func(*args,**kwargs):\n",
        "    return('Ivide ninnu {}km poyal {} ethum'.format(args[0],kwargs['place']))\n",
        "\n",
        "avial_func(2.6,43,69,420,name='ash',place='home',dob='kekeke')"
      ],
      "metadata": {
        "colab": {
          "base_uri": "https://localhost:8080/",
          "height": 35
        },
        "id": "h72uD6EJUHaz",
        "outputId": "0f875184-81bb-4d0d-cdd8-c674ac67981a"
      },
      "execution_count": null,
      "outputs": [
        {
          "output_type": "execute_result",
          "data": {
            "text/plain": [
              "'Ivide ninnu 2.6km poyal home ethum'"
            ],
            "application/vnd.google.colaboratory.intrinsic+json": {
              "type": "string"
            }
          },
          "metadata": {},
          "execution_count": 9
        }
      ]
    },
    {
      "cell_type": "code",
      "source": [
        "def myfunc(word):\n",
        "    count = 0\n",
        "    new=''\n",
        "    for i in word:\n",
        "        count+=1\n",
        "        if(count%2==0):\n",
        "            new+=(i.upper())\n",
        "        else:\n",
        "            new+=(i.lower())\n",
        "    return(new)\n",
        "\n",
        "myfunc('huhuhu')"
      ],
      "metadata": {
        "colab": {
          "base_uri": "https://localhost:8080/",
          "height": 35
        },
        "id": "rKfP5WRYXdgw",
        "outputId": "2c077db3-2f26-4a04-ae0a-d6c29090e431"
      },
      "execution_count": null,
      "outputs": [
        {
          "output_type": "execute_result",
          "data": {
            "text/plain": [
              "'hUhUhU'"
            ],
            "application/vnd.google.colaboratory.intrinsic+json": {
              "type": "string"
            }
          },
          "metadata": {},
          "execution_count": 14
        }
      ]
    },
    {
      "cell_type": "markdown",
      "source": [
        "SPY GAME: Write a function that takes in a list of integers and returns True if it contains 007 in order"
      ],
      "metadata": {
        "id": "Y0T8YxigfqnU"
      }
    },
    {
      "cell_type": "code",
      "source": [
        "def spy_game(li):\n",
        "    for i in li:\n",
        "        if(li[::-1].index(7) < li[::-1].index(0)):\n",
        "                return True\n",
        "    return False\n",
        "spy_game([0,4,5,8,0,0,7,0,7]) # Now this was goood."
      ],
      "metadata": {
        "colab": {
          "base_uri": "https://localhost:8080/"
        },
        "id": "kVSC0tDQaB9T",
        "outputId": "741befb6-9bbe-4e37-b85b-0e270204cc2c"
      },
      "execution_count": null,
      "outputs": [
        {
          "output_type": "execute_result",
          "data": {
            "text/plain": [
              "True"
            ]
          },
          "metadata": {},
          "execution_count": 73
        }
      ]
    },
    {
      "cell_type": "markdown",
      "source": [
        "###OR do it like our tutor did(simply incredible)"
      ],
      "metadata": {
        "id": "5lhRI_nionR0"
      }
    },
    {
      "cell_type": "code",
      "source": [
        "def spy_game(li):\n",
        "    code = [0,0,7,'x']\n",
        "    for num in li:\n",
        "        if num == code[0]:\n",
        "            code.pop(0)\n",
        "    return len(code)==1\n",
        "\n",
        "\n",
        "spy_game([0,4,5,8,0,0,7])"
      ],
      "metadata": {
        "colab": {
          "base_uri": "https://localhost:8080/"
        },
        "id": "HaIEU-_tox-V",
        "outputId": "ae2b0b50-60ef-4660-c5fb-f12598ee89d5"
      },
      "execution_count": null,
      "outputs": [
        {
          "output_type": "execute_result",
          "data": {
            "text/plain": [
              "True"
            ]
          },
          "metadata": {},
          "execution_count": 70
        }
      ]
    },
    {
      "cell_type": "markdown",
      "source": [
        "Write a function that returns the number of prime numbers that exist up to and including a given number"
      ],
      "metadata": {
        "id": "fANC-f6vfisx"
      }
    },
    {
      "cell_type": "markdown",
      "source": [
        "###For else statement\n",
        " we put the code in else that is to be executed when the for loop is not broken using break."
      ],
      "metadata": {
        "id": "pmHVsKPDr7GJ"
      }
    },
    {
      "cell_type": "code",
      "source": [
        "def count_prime(num):\n",
        "    count=0\n",
        "    flag=0\n",
        "    for i in range(2,num):\n",
        "        if num<=1:\n",
        "            continue\n",
        "        for j in range(2,i):\n",
        "            if(i%j)==0: #Note where to put brackets properly!!!\n",
        "                break\n",
        "        else: #All happened because we didnte put this else!!!!!!!!!!!! For else statement\n",
        "            count+=1\n",
        "    return count\n",
        "\n",
        "count_prime(100)"
      ],
      "metadata": {
        "colab": {
          "base_uri": "https://localhost:8080/"
        },
        "id": "Bok5nkM7fhCW",
        "outputId": "99c1b18e-faf2-4169-d249-4b4546b83de1"
      },
      "execution_count": null,
      "outputs": [
        {
          "output_type": "execute_result",
          "data": {
            "text/plain": [
              "25"
            ]
          },
          "metadata": {},
          "execution_count": 60
        }
      ]
    },
    {
      "cell_type": "code",
      "source": [],
      "metadata": {
        "id": "-mrCmRa08wgB"
      },
      "execution_count": null,
      "outputs": []
    }
  ]
}