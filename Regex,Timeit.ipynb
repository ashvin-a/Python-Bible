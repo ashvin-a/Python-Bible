{
  "nbformat": 4,
  "nbformat_minor": 0,
  "metadata": {
    "colab": {
      "provenance": [],
      "authorship_tag": "ABX9TyOI7IvJsH71floHQEe+6hyW",
      "include_colab_link": true
    },
    "kernelspec": {
      "name": "python3",
      "display_name": "Python 3"
    },
    "language_info": {
      "name": "python"
    }
  },
  "cells": [
    {
      "cell_type": "markdown",
      "metadata": {
        "id": "view-in-github",
        "colab_type": "text"
      },
      "source": [
        "<a href=\"https://colab.research.google.com/github/ashvin-a/Python-Bible/blob/main/Regex%2CTimeit.ipynb\" target=\"_parent\"><img src=\"https://colab.research.google.com/assets/colab-badge.svg\" alt=\"Open In Colab\"/></a>"
      ]
    },
    {
      "cell_type": "code",
      "execution_count": 1,
      "metadata": {
        "id": "gQOZZfECUbMc"
      },
      "outputs": [],
      "source": [
        "import re\n",
        "\n",
        "pattern = 'hey there'"
      ]
    },
    {
      "cell_type": "code",
      "source": [
        "text = 'asdl alskdj qu ,mnv  pweou ie weiuhwe whe qwf hey there klfjlkd wepruq wkjwv,m doqwid das'"
      ],
      "metadata": {
        "id": "qJewg8fDVJ2p"
      },
      "execution_count": null,
      "outputs": []
    },
    {
      "cell_type": "code",
      "source": [
        "flag = re.search(pattern,text)"
      ],
      "metadata": {
        "id": "au3YD96VVT2r"
      },
      "execution_count": null,
      "outputs": []
    },
    {
      "cell_type": "code",
      "source": [
        "flag.start()\n",
        "flag.end()"
      ],
      "metadata": {
        "colab": {
          "base_uri": "https://localhost:8080/"
        },
        "id": "mCKI9gOVVhtq",
        "outputId": "a90b48a1-a372-4d82-9202-7140aabbcb0e"
      },
      "execution_count": null,
      "outputs": [
        {
          "output_type": "execute_result",
          "data": {
            "text/plain": [
              "55"
            ]
          },
          "metadata": {},
          "execution_count": 6
        }
      ]
    },
    {
      "cell_type": "code",
      "source": [
        "text = 'hey there blah blah hey there blah blah'\n",
        "word = 'blah'\n",
        "\n",
        "re.findall(word,text)"
      ],
      "metadata": {
        "colab": {
          "base_uri": "https://localhost:8080/"
        },
        "id": "6rwtQcS2Vrd8",
        "outputId": "37aa342f-bc90-4da4-afc1-8b9fa1e32605"
      },
      "execution_count": null,
      "outputs": [
        {
          "output_type": "execute_result",
          "data": {
            "text/plain": [
              "['blah', 'blah', 'blah', 'blah']"
            ]
          },
          "metadata": {},
          "execution_count": 7
        }
      ]
    },
    {
      "cell_type": "code",
      "source": [
        "for i in re.finditer(word,text):\n",
        "    print(i)\n",
        "    print(i.group())"
      ],
      "metadata": {
        "colab": {
          "base_uri": "https://localhost:8080/"
        },
        "id": "YCkQ_lUGV-_t",
        "outputId": "13d803f9-20b5-4679-c4f7-5dd5fe4ee6cd"
      },
      "execution_count": null,
      "outputs": [
        {
          "output_type": "stream",
          "name": "stdout",
          "text": [
            "<re.Match object; span=(10, 14), match='blah'>\n",
            "blah\n",
            "<re.Match object; span=(15, 19), match='blah'>\n",
            "blah\n",
            "<re.Match object; span=(30, 34), match='blah'>\n",
            "blah\n",
            "<re.Match object; span=(35, 39), match='blah'>\n",
            "blah\n"
          ]
        }
      ]
    },
    {
      "cell_type": "markdown",
      "source": [
        "#Regex\n",
        "\n",
        "\n",
        "*   \\d  - digit\n",
        "*   \\w  - Alphanumeric\n",
        "*   \\s  - whitespace\n",
        "*   \\D  - non digit\n",
        "*   \\W  - non alphanumeric\n",
        "*   \\S  - non whitespace\n",
        "\n",
        "\n",
        "\n"
      ],
      "metadata": {
        "id": "2ZbrvooyWf2m"
      }
    },
    {
      "cell_type": "code",
      "source": [
        "text = 'the phone no is 8547-483-101'\n",
        "\n",
        "res = re.search(r'\\d\\d\\d\\d-\\d\\d\\d-\\d\\d\\d',text)\n",
        "print(res)\n",
        "print(res.group())"
      ],
      "metadata": {
        "colab": {
          "base_uri": "https://localhost:8080/"
        },
        "id": "6xfXpv8UW6Ev",
        "outputId": "190520eb-b0b1-4092-9823-67fdf5036f61"
      },
      "execution_count": null,
      "outputs": [
        {
          "output_type": "stream",
          "name": "stdout",
          "text": [
            "<re.Match object; span=(16, 28), match='8547-483-101'>\n",
            "8547-483-101\n"
          ]
        }
      ]
    },
    {
      "cell_type": "markdown",
      "source": [
        "#Quantifiers\n",
        "\n",
        "*  +- Occurs one or more times\n",
        "*  {3} - Occurs 3 times\n",
        "*  {2,4} - Occurs 2 to 4 times\n",
        "*  {3,} - Occurs 3 or more times\n",
        "* *- Occurs 0 or more times\n",
        "* ? Once or none"
      ],
      "metadata": {
        "id": "frJIlYSTXtdI"
      }
    },
    {
      "cell_type": "code",
      "source": [
        "text = 'the phone no is 8547-483-101'\n",
        "\n",
        "res = re.search(r'\\d{4}-\\d{3}-\\d{3}',text)\n",
        "print(res)\n",
        "print(res.group())"
      ],
      "metadata": {
        "colab": {
          "base_uri": "https://localhost:8080/"
        },
        "id": "C_wqoPr9cexh",
        "outputId": "13baee06-58e4-4339-b760-6a58a2b6c2aa"
      },
      "execution_count": null,
      "outputs": [
        {
          "output_type": "stream",
          "name": "stdout",
          "text": [
            "<re.Match object; span=(16, 28), match='8547-483-101'>\n",
            "8547-483-101\n"
          ]
        }
      ]
    },
    {
      "cell_type": "code",
      "source": [
        "pattern = re.compile(r'(\\d{4})-(\\d{3})-(\\d{3})')\n",
        "\n",
        "res = re.search(pattern,text)"
      ],
      "metadata": {
        "id": "Kev_UWkidV0p"
      },
      "execution_count": null,
      "outputs": []
    },
    {
      "cell_type": "code",
      "source": [
        "res.group(1)\n",
        "res.group(2)\n",
        "res.group(3)"
      ],
      "metadata": {
        "colab": {
          "base_uri": "https://localhost:8080/",
          "height": 35
        },
        "id": "ywA5oB9odrPJ",
        "outputId": "ee80e814-b58e-4c1b-d0a6-f7b5e628e27e"
      },
      "execution_count": null,
      "outputs": [
        {
          "output_type": "execute_result",
          "data": {
            "text/plain": [
              "'101'"
            ],
            "application/vnd.google.colaboratory.intrinsic+json": {
              "type": "string"
            }
          },
          "metadata": {},
          "execution_count": 20
        }
      ]
    },
    {
      "cell_type": "markdown",
      "source": [
        "#OR Operator"
      ],
      "metadata": {
        "id": "t4BF6MxeeE27"
      }
    },
    {
      "cell_type": "code",
      "source": [
        "re.findall(r'blah|bleh','blah blahb bleh bleh gibberish')"
      ],
      "metadata": {
        "colab": {
          "base_uri": "https://localhost:8080/"
        },
        "id": "Jw47bBCHeH0Z",
        "outputId": "aa8b34ad-fad2-46d4-f849-e23e24e0c3b1"
      },
      "execution_count": null,
      "outputs": [
        {
          "output_type": "execute_result",
          "data": {
            "text/plain": [
              "['blah', 'blah', 'bleh', 'bleh']"
            ]
          },
          "metadata": {},
          "execution_count": 22
        }
      ]
    },
    {
      "cell_type": "code",
      "source": [
        "re.findall(r'.at','the cat with a hat is at the top of an atom bomb doing some squats')"
      ],
      "metadata": {
        "colab": {
          "base_uri": "https://localhost:8080/"
        },
        "id": "ZmgL6dmKehmr",
        "outputId": "52f4a310-7aa5-49d6-8d83-2fcc9830cf49"
      },
      "execution_count": null,
      "outputs": [
        {
          "output_type": "execute_result",
          "data": {
            "text/plain": [
              "['cat', 'hat', ' at', ' at', 'uat']"
            ]
          },
          "metadata": {},
          "execution_count": 25
        }
      ]
    },
    {
      "cell_type": "code",
      "source": [
        "re.findall(r'....at','the cat with a hat is at the top of an atom bomb doing some squats')"
      ],
      "metadata": {
        "colab": {
          "base_uri": "https://localhost:8080/"
        },
        "id": "UJmbNxX-e_ia",
        "outputId": "fa82cfb9-f083-4cd8-fb9b-cc5bd20b697c"
      },
      "execution_count": null,
      "outputs": [
        {
          "output_type": "execute_result",
          "data": {
            "text/plain": [
              "['he cat', ' a hat', ' is at', ' an at', ' squat']"
            ]
          },
          "metadata": {},
          "execution_count": 26
        }
      ]
    },
    {
      "cell_type": "code",
      "source": [
        "re.findall(r'^\\d','1 is a num')"
      ],
      "metadata": {
        "colab": {
          "base_uri": "https://localhost:8080/"
        },
        "id": "6WR66CI9fSJK",
        "outputId": "3fceb933-10d7-4bb5-a689-4e91c39e0e61"
      },
      "execution_count": null,
      "outputs": [
        {
          "output_type": "execute_result",
          "data": {
            "text/plain": [
              "['1']"
            ]
          },
          "metadata": {},
          "execution_count": 29
        }
      ]
    },
    {
      "cell_type": "code",
      "source": [
        "re.findall(r'\\d$','1 is a num2')"
      ],
      "metadata": {
        "colab": {
          "base_uri": "https://localhost:8080/"
        },
        "id": "ahSWe2m5fc6K",
        "outputId": "49b701ab-ffca-43a2-e45f-05bc81fb220f"
      },
      "execution_count": null,
      "outputs": [
        {
          "output_type": "execute_result",
          "data": {
            "text/plain": [
              "['2']"
            ]
          },
          "metadata": {},
          "execution_count": 30
        }
      ]
    },
    {
      "cell_type": "code",
      "source": [
        "phrase = 'there are 2 and 3 and 1 and 5 in this sentence'\n",
        "pattern = r'[^\\d]'\n",
        "\n",
        "re.findall(pattern,phrase)"
      ],
      "metadata": {
        "id": "fiHnbzWNfzkc"
      },
      "execution_count": null,
      "outputs": []
    },
    {
      "cell_type": "code",
      "source": [
        "pattern = r'[^\\d]+'\n",
        "re.findall(pattern,phrase)"
      ],
      "metadata": {
        "colab": {
          "base_uri": "https://localhost:8080/"
        },
        "id": "jJsdbAEKgIqL",
        "outputId": "01158fb6-93b8-4428-fb77-a52af6c32d3c"
      },
      "execution_count": null,
      "outputs": [
        {
          "output_type": "execute_result",
          "data": {
            "text/plain": [
              "['there are ', ' and ', ' and ', ' and ', ' in this sentence']"
            ]
          },
          "metadata": {},
          "execution_count": 32
        }
      ]
    },
    {
      "cell_type": "code",
      "source": [
        "para = 'This is some sentence that has punctuations! I need to remove it... How can I do it??'\n",
        "re.findall(r'[^?.!]',para) # use ^ to remove things\n",
        "''.join(re.findall(r'[^?.!]',para))"
      ],
      "metadata": {
        "colab": {
          "base_uri": "https://localhost:8080/",
          "height": 35
        },
        "id": "mBsx8rugy6wO",
        "outputId": "3808e0fd-6f5a-469f-de5f-8c786ade5636"
      },
      "execution_count": null,
      "outputs": [
        {
          "output_type": "execute_result",
          "data": {
            "text/plain": [
              "'This is some sentence that has punctuations I need to remove it How can I do it'"
            ],
            "application/vnd.google.colaboratory.intrinsic+json": {
              "type": "string"
            }
          },
          "metadata": {},
          "execution_count": 6
        }
      ]
    },
    {
      "cell_type": "code",
      "source": [
        "text='skjdflksdj-dskjfl dslfkl sdklfj weoiru ewiq woiepo-sdi sdf -dfkkl sdfk qwiueo-d aslkj kalsj k ksdj'\n",
        "\n",
        "re.findall(r'[\\w]+-[\\w]+',text)"
      ],
      "metadata": {
        "id": "ZdqEEcLg0DiM",
        "colab": {
          "base_uri": "https://localhost:8080/"
        },
        "outputId": "85287f59-26dc-401e-9e78-b1b0c32ee6e9"
      },
      "execution_count": 8,
      "outputs": [
        {
          "output_type": "execute_result",
          "data": {
            "text/plain": [
              "['skjdflksdj-dskjfl', 'woiepo-sdi', 'qwiueo-d']"
            ]
          },
          "metadata": {},
          "execution_count": 8
        }
      ]
    },
    {
      "cell_type": "code",
      "source": [
        "import timeit\n",
        "\n",
        "state = '''\n",
        "func(1)\n",
        "'''\n",
        "\n",
        "fun = '''\n",
        "def func(n):\n",
        "    return list(map(str,range(n)))\n",
        "'''\n",
        "timeit.timeit(state,fun,number=1000)"
      ],
      "metadata": {
        "colab": {
          "base_uri": "https://localhost:8080/"
        },
        "id": "_h_mnc8MAjqU",
        "outputId": "fc5d54e5-ff57-45bb-dd1f-423766ddf4f0"
      },
      "execution_count": 13,
      "outputs": [
        {
          "output_type": "execute_result",
          "data": {
            "text/plain": [
              "0.0010257050000745949"
            ]
          },
          "metadata": {},
          "execution_count": 13
        }
      ]
    },
    {
      "cell_type": "code",
      "source": [
        "state = '''\n",
        "func(1)\n",
        "'''\n",
        "\n",
        "fun = '''\n",
        "def func(n):\n",
        "    return [str(i) for i in range(n)]\n",
        "'''\n",
        "timeit.timeit(state,fun,number=1000)\n"
      ],
      "metadata": {
        "colab": {
          "base_uri": "https://localhost:8080/"
        },
        "id": "bn0H92kEBT9g",
        "outputId": "6d905497-7019-45fb-8e96-f95e664f3aa5"
      },
      "execution_count": 14,
      "outputs": [
        {
          "output_type": "execute_result",
          "data": {
            "text/plain": [
              "0.0008873280000898376"
            ]
          },
          "metadata": {},
          "execution_count": 14
        }
      ]
    }
  ]
}